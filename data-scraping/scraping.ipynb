{
 "metadata": {
  "language_info": {
   "codemirror_mode": {
    "name": "ipython",
    "version": 3
   },
   "file_extension": ".py",
   "mimetype": "text/x-python",
   "name": "python",
   "nbconvert_exporter": "python",
   "pygments_lexer": "ipython3",
   "version": "3.8.3-final"
  },
  "orig_nbformat": 2,
  "kernelspec": {
   "name": "python3",
   "display_name": "Python 3.8.3 64-bit ('base': conda)",
   "metadata": {
    "interpreter": {
     "hash": "4b7b2dd4173d2a209853958e179707f82bc7d91748def652697399ba4501fb9f"
    }
   }
  }
 },
 "nbformat": 4,
 "nbformat_minor": 2,
 "cells": [
  {
   "cell_type": "code",
   "execution_count": 16,
   "metadata": {},
   "outputs": [
    {
     "output_type": "execute_result",
     "data": {
      "text/plain": [
       "'[1 = P II 1b. Herbst 1869]'"
      ]
     },
     "metadata": {},
     "execution_count": 16
    }
   ],
   "source": [
    "from splinter import Browser\n",
    "br = Browser('firefox', headless=True)\n",
    "br.visit('http://www.nietzschesource.org/#eKGWB/NF-1869,1')\n",
    "\n",
    "firstPar = br.find_by_css('div.p')[0].value\n",
    "firstPar"
   ]
  },
  {
   "cell_type": "code",
   "execution_count": 23,
   "metadata": {},
   "outputs": [],
   "source": [
    "import json"
   ]
  },
  {
   "cell_type": "code",
   "execution_count": 25,
   "metadata": {
    "tags": []
   },
   "outputs": [],
   "source": [
    "divs = []\n",
    "\n",
    "for i in range(1, 114):\n",
    "    div = br.find_by_css('div.p')[i].value\n",
    "    divs.append(div)\n",
    "\n",
    "# print(json.dumps(divs))\n",
    "\n",
    "with open('test.json', 'w') as json_file:\n",
    "    json.dump(divs, json_file)"
   ]
  },
  {
   "cell_type": "code",
   "execution_count": null,
   "metadata": {},
   "outputs": [],
   "source": []
  }
 ]
}