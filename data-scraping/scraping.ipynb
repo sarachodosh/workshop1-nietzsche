{
 "metadata": {
  "language_info": {
   "codemirror_mode": {
    "name": "ipython",
    "version": 3
   },
   "file_extension": ".py",
   "mimetype": "text/x-python",
   "name": "python",
   "nbconvert_exporter": "python",
   "pygments_lexer": "ipython3",
   "version": "3.8.3-final"
  },
  "orig_nbformat": 2,
  "kernelspec": {
   "name": "python3",
   "display_name": "Python 3.8.3 64-bit ('base': conda)",
   "metadata": {
    "interpreter": {
     "hash": "4b7b2dd4173d2a209853958e179707f82bc7d91748def652697399ba4501fb9f"
    }
   }
  }
 },
 "nbformat": 4,
 "nbformat_minor": 2,
 "cells": [
  {
   "cell_type": "code",
   "execution_count": 107,
   "metadata": {},
   "outputs": [
    {
     "output_type": "execute_result",
     "data": {
      "text/plain": [
       "'http://www.nietzschesource.org/#eKGWB/NF-1869,3'"
      ]
     },
     "metadata": {},
     "execution_count": 107
    }
   ],
   "source": [
    "url"
   ]
  },
  {
   "cell_type": "code",
   "execution_count": 1,
   "metadata": {},
   "outputs": [
    {
     "output_type": "error",
     "ename": "NameError",
     "evalue": "name 'url' is not defined",
     "traceback": [
      "\u001b[0;31m---------------------------------------------------------------------------\u001b[0m",
      "\u001b[0;31mNameError\u001b[0m                                 Traceback (most recent call last)",
      "\u001b[0;32m<ipython-input-1-4795670c82fe>\u001b[0m in \u001b[0;36m<module>\u001b[0;34m\u001b[0m\n\u001b[1;32m      1\u001b[0m \u001b[0;32mfrom\u001b[0m \u001b[0msplinter\u001b[0m \u001b[0;32mimport\u001b[0m \u001b[0mBrowser\u001b[0m\u001b[0;34m\u001b[0m\u001b[0;34m\u001b[0m\u001b[0m\n\u001b[1;32m      2\u001b[0m \u001b[0mbr\u001b[0m \u001b[0;34m=\u001b[0m \u001b[0mBrowser\u001b[0m\u001b[0;34m(\u001b[0m\u001b[0;34m'firefox'\u001b[0m\u001b[0;34m,\u001b[0m \u001b[0mheadless\u001b[0m\u001b[0;34m=\u001b[0m\u001b[0;32mTrue\u001b[0m\u001b[0;34m)\u001b[0m\u001b[0;34m\u001b[0m\u001b[0;34m\u001b[0m\u001b[0m\n\u001b[0;32m----> 3\u001b[0;31m \u001b[0mbr\u001b[0m\u001b[0;34m.\u001b[0m\u001b[0mvisit\u001b[0m\u001b[0;34m(\u001b[0m\u001b[0murl\u001b[0m\u001b[0;34m)\u001b[0m\u001b[0;34m\u001b[0m\u001b[0;34m\u001b[0m\u001b[0m\n\u001b[0m\u001b[1;32m      4\u001b[0m \u001b[0;34m\u001b[0m\u001b[0m\n\u001b[1;32m      5\u001b[0m \u001b[0mfirstPar\u001b[0m \u001b[0;34m=\u001b[0m \u001b[0mbr\u001b[0m\u001b[0;34m.\u001b[0m\u001b[0mfind_by_css\u001b[0m\u001b[0;34m(\u001b[0m\u001b[0;34m'div.p'\u001b[0m\u001b[0;34m)\u001b[0m\u001b[0;34m[\u001b[0m\u001b[0;36m0\u001b[0m\u001b[0;34m]\u001b[0m\u001b[0;34m.\u001b[0m\u001b[0mvalue\u001b[0m\u001b[0;34m\u001b[0m\u001b[0;34m\u001b[0m\u001b[0m\n",
      "\u001b[0;31mNameError\u001b[0m: name 'url' is not defined"
     ]
    }
   ],
   "source": [
    "from splinter import Browser\n",
    "br = Browser('firefox', headless=True)\n",
    "br.visit(url)\n",
    "\n",
    "firstPar = br.find_by_css('div.p')[0].value\n",
    "firstPar"
   ]
  },
  {
   "cell_type": "code",
   "execution_count": 119,
   "metadata": {},
   "outputs": [
    {
     "output_type": "execute_result",
     "data": {
      "text/plain": [
       "415"
      ]
     },
     "metadata": {},
     "execution_count": 119
    }
   ],
   "source": [
    "br.visit(url)\n",
    "test_all = br.find_by_css('div.p')\n",
    "\n",
    "len(test_all)"
   ]
  },
  {
   "cell_type": "code",
   "execution_count": 14,
   "metadata": {},
   "outputs": [],
   "source": [
    "import json\n",
    "import csv\n",
    "import pandas as pd"
   ]
  },
  {
   "cell_type": "code",
   "execution_count": 33,
   "metadata": {
    "tags": []
   },
   "outputs": [],
   "source": [
    "divs_test = []\n",
    "obj_test = {}\n",
    "\n",
    "for i in range(1, 114):\n",
    "    div_test = br.find_by_css('div.p')[i].value\n",
    "    divs_test.append(div)\n",
    "\n",
    "\n",
    "#print(obj)"
   ]
  },
  {
   "cell_type": "code",
   "execution_count": null,
   "metadata": {},
   "outputs": [],
   "source": [
    "with open('test.json', 'w') as json_file:\n",
    "    json.dump({'year': 1869, 'group': 1, 'fragments': divs_test}, json_file)"
   ]
  },
  {
   "cell_type": "code",
   "execution_count": 122,
   "metadata": {},
   "outputs": [
    {
     "output_type": "execute_result",
     "data": {
      "text/plain": [
       "     year  group\n",
       "0    1869      1\n",
       "1    1869      2\n",
       "2    1869      3\n",
       "3    1870      4\n",
       "4    1870      5\n",
       "..    ...    ...\n",
       "171  1888     21\n",
       "172  1888     22\n",
       "173  1888     23\n",
       "174  1888     24\n",
       "175  1888     25\n",
       "\n",
       "[176 rows x 2 columns]"
      ],
      "text/html": "<div>\n<style scoped>\n    .dataframe tbody tr th:only-of-type {\n        vertical-align: middle;\n    }\n\n    .dataframe tbody tr th {\n        vertical-align: top;\n    }\n\n    .dataframe thead th {\n        text-align: right;\n    }\n</style>\n<table border=\"1\" class=\"dataframe\">\n  <thead>\n    <tr style=\"text-align: right;\">\n      <th></th>\n      <th>year</th>\n      <th>group</th>\n    </tr>\n  </thead>\n  <tbody>\n    <tr>\n      <th>0</th>\n      <td>1869</td>\n      <td>1</td>\n    </tr>\n    <tr>\n      <th>1</th>\n      <td>1869</td>\n      <td>2</td>\n    </tr>\n    <tr>\n      <th>2</th>\n      <td>1869</td>\n      <td>3</td>\n    </tr>\n    <tr>\n      <th>3</th>\n      <td>1870</td>\n      <td>4</td>\n    </tr>\n    <tr>\n      <th>4</th>\n      <td>1870</td>\n      <td>5</td>\n    </tr>\n    <tr>\n      <th>...</th>\n      <td>...</td>\n      <td>...</td>\n    </tr>\n    <tr>\n      <th>171</th>\n      <td>1888</td>\n      <td>21</td>\n    </tr>\n    <tr>\n      <th>172</th>\n      <td>1888</td>\n      <td>22</td>\n    </tr>\n    <tr>\n      <th>173</th>\n      <td>1888</td>\n      <td>23</td>\n    </tr>\n    <tr>\n      <th>174</th>\n      <td>1888</td>\n      <td>24</td>\n    </tr>\n    <tr>\n      <th>175</th>\n      <td>1888</td>\n      <td>25</td>\n    </tr>\n  </tbody>\n</table>\n<p>176 rows × 2 columns</p>\n</div>"
     },
     "metadata": {},
     "execution_count": 122
    }
   ],
   "source": [
    "toPull = pd.read_csv('to_pull.csv', sep=',')\n",
    "toPull = pd.DataFrame(toPull)\n",
    "toPull"
   ]
  },
  {
   "cell_type": "code",
   "execution_count": 36,
   "metadata": {},
   "outputs": [
    {
     "output_type": "stream",
     "name": "stdout",
     "text": [
      "1\n2\n3\n"
     ]
    }
   ],
   "source": [
    "for index, row in toPull.iterrows():\n",
    "    print(row['group'])"
   ]
  },
  {
   "cell_type": "code",
   "execution_count": 47,
   "metadata": {},
   "outputs": [
    {
     "output_type": "execute_result",
     "data": {
      "text/plain": [
       "'http://www.nietzschesource.org/#eKGWB/NF-1869,1'"
      ]
     },
     "metadata": {},
     "execution_count": 47
    }
   ],
   "source": [
    "url_bits_test = ['http://www.nietzschesource.org/#eKGWB/NF-', '1869', ',', '1']\n",
    "url_test = ''.join(url_bits_test)\n",
    "\n",
    "url_test"
   ]
  },
  {
   "cell_type": "code",
   "execution_count": 123,
   "metadata": {
    "tags": []
   },
   "outputs": [],
   "source": [
    "toPull = pd.read_csv('to_pull.csv', sep=',')\n",
    "toPull = pd.DataFrame(toPull)\n",
    "\n",
    "divs = []\n",
    "div = []\n",
    "obj = {}\n",
    "url_bits = []\n",
    "url = ''\n",
    "\n",
    "for index, row in toPull.iterrows():\n",
    "    url_bits = ['http://www.nietzschesource.org/#eKGWB/NF-', str(row['year']), ',', str(row['group'])]\n",
    "    url = ''.join(url_bits)\n",
    "    br = Browser('firefox', headless=True)\n",
    "    br.visit(url)\n",
    "\n",
    "    elems = br.find_by_css('div.p')\n",
    "\n",
    "    for j in range(1, len(elems)):\n",
    "        div = elems[j].value\n",
    "        divs.append(div)\n",
    "        div = []\n",
    "        \n",
    "\n",
    "    obj = {\n",
    "        'year': int(row['year']),\n",
    "        'group': int(row['group']),\n",
    "        'text': divs\n",
    "    }\n",
    "    #print(obj)\n",
    "\n",
    "    with open('test.json') as file:\n",
    "        data = json.load(file)\n",
    "        data.append(obj)\n",
    "    with open('test.json', 'w') as file:\n",
    "        json.dump(data, file, indent=4)\n",
    "\n",
    "    \n",
    "    divs = []\n",
    "    obj = {}"
   ]
  },
  {
   "cell_type": "code",
   "execution_count": null,
   "metadata": {},
   "outputs": [],
   "source": []
  }
 ]
}