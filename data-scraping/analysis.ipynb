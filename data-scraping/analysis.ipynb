{
 "metadata": {
  "language_info": {
   "codemirror_mode": {
    "name": "ipython",
    "version": 3
   },
   "file_extension": ".py",
   "mimetype": "text/x-python",
   "name": "python",
   "nbconvert_exporter": "python",
   "pygments_lexer": "ipython3",
   "version": "3.8.3-final"
  },
  "orig_nbformat": 2,
  "kernelspec": {
   "name": "python3",
   "display_name": "Python 3.8.3 64-bit ('base': conda)",
   "metadata": {
    "interpreter": {
     "hash": "4b7b2dd4173d2a209853958e179707f82bc7d91748def652697399ba4501fb9f"
    }
   }
  }
 },
 "nbformat": 4,
 "nbformat_minor": 2,
 "cells": [
  {
   "cell_type": "code",
   "execution_count": 83,
   "metadata": {},
   "outputs": [],
   "source": [
    "import pandas as pd\n",
    "import json\n",
    "import re"
   ]
  },
  {
   "cell_type": "code",
   "execution_count": 141,
   "metadata": {},
   "outputs": [],
   "source": [
    "data = pd.read_json('test.json')\n",
    "data = pd.DataFrame(data)\n",
    "\n",
    "testData = data.loc[0, 'text']\n",
    "testData = str(testData)"
   ]
  },
  {
   "source": [
    "p=re.compile(r'\\b[Aa]ls\\b')\n",
    "p.findall(testData)\n",
    "#len(p.findall(testData))"
   ],
   "cell_type": "code",
   "metadata": {},
   "execution_count": 24,
   "outputs": [
    {
     "output_type": "execute_result",
     "data": {
      "text/plain": [
       "['als',\n",
       " 'als',\n",
       " 'als',\n",
       " 'als',\n",
       " 'als',\n",
       " 'als',\n",
       " 'als',\n",
       " 'als',\n",
       " 'Als',\n",
       " 'als',\n",
       " 'als',\n",
       " 'als',\n",
       " 'als',\n",
       " 'als',\n",
       " 'als',\n",
       " 'als',\n",
       " 'als',\n",
       " 'als',\n",
       " 'als',\n",
       " 'als',\n",
       " 'als',\n",
       " 'als',\n",
       " 'als',\n",
       " 'als',\n",
       " 'als',\n",
       " 'als',\n",
       " 'als',\n",
       " 'als',\n",
       " 'als',\n",
       " 'als',\n",
       " 'als',\n",
       " 'als',\n",
       " 'als',\n",
       " 'als',\n",
       " 'als',\n",
       " 'als',\n",
       " 'als',\n",
       " 'als',\n",
       " 'als',\n",
       " 'als',\n",
       " 'als',\n",
       " 'Als',\n",
       " 'als',\n",
       " 'als',\n",
       " 'als',\n",
       " 'als',\n",
       " 'als',\n",
       " 'als',\n",
       " 'als',\n",
       " 'als',\n",
       " 'als',\n",
       " 'als',\n",
       " 'als',\n",
       " 'als',\n",
       " 'als']"
      ]
     },
     "metadata": {},
     "execution_count": 24
    }
   ]
  },
  {
   "cell_type": "code",
   "execution_count": 32,
   "metadata": {
    "tags": []
   },
   "outputs": [
    {
     "output_type": "execute_result",
     "data": {
      "text/plain": [
       "[110,\n",
       " 240,\n",
       " 359,\n",
       " 389,\n",
       " 415,\n",
       " 936,\n",
       " 3073,\n",
       " 3181,\n",
       " 3427,\n",
       " 3516,\n",
       " 4252,\n",
       " 4365,\n",
       " 5074,\n",
       " 6451,\n",
       " 7554,\n",
       " 7615,\n",
       " 9873,\n",
       " 9955,\n",
       " 10445,\n",
       " 10551,\n",
       " 10690,\n",
       " 10929,\n",
       " 14411,\n",
       " 15102,\n",
       " 16233,\n",
       " 16282,\n",
       " 16333,\n",
       " 16581,\n",
       " 17112,\n",
       " 17427,\n",
       " 17741,\n",
       " 17754,\n",
       " 17886,\n",
       " 18020,\n",
       " 18057,\n",
       " 19795,\n",
       " 19899,\n",
       " 19922,\n",
       " 19985,\n",
       " 20027,\n",
       " 21051,\n",
       " 21197,\n",
       " 21546,\n",
       " 23593,\n",
       " 25841,\n",
       " 26015,\n",
       " 26093,\n",
       " 26436,\n",
       " 26916,\n",
       " 26944,\n",
       " 28237,\n",
       " 30005,\n",
       " 30372,\n",
       " 31105,\n",
       " 31238,\n",
       " 31477,\n",
       " 31505,\n",
       " 33902,\n",
       " 34935,\n",
       " 35457,\n",
       " 35703,\n",
       " 40965,\n",
       " 42716,\n",
       " 44920,\n",
       " 45500,\n",
       " 45587,\n",
       " 46340,\n",
       " 46793,\n",
       " 46968,\n",
       " 47526,\n",
       " 49126,\n",
       " 49848]"
      ]
     },
     "metadata": {},
     "execution_count": 32
    }
   ],
   "source": [
    "# finds locations (start, end) of all matches\n",
    "p=re.compile(r'als')\n",
    "iterator = p.finditer(testData)\n",
    "\n",
    "positions = []\n",
    "\n",
    "for match in iterator:\n",
    "    newPosition = match.start()\n",
    "    positions.append(newPosition)\n",
    "\n",
    "positions"
   ]
  },
  {
   "cell_type": "code",
   "execution_count": 190,
   "metadata": {},
   "outputs": [
    {
     "output_type": "execute_result",
     "data": {
      "text/plain": [
       "     year  group                                               text  \\\n",
       "0    1869      1  [Wer heutzutage von Aeschylus Sophocles Euripi...   \n",
       "1    1869      2  [Das Christenthum, ursprünglich Sache des Tale...   \n",
       "2    1869      3  [Wir sind leider gewöhnt die Künste in der Ver...   \n",
       "3    1870      4  [Erlangen Samstag den 20. August., Hier seit a...   \n",
       "4    1870      5  [Gedanken zu\\n„die Tragoedie und die\\nFreigeis...   \n",
       "..    ...    ...                                                ...   \n",
       "171  1888     21  [Teichm<üller>, Scept<iques> gr<ecs>, Spir, A<...   \n",
       "172  1888     22  [Randbemerkung zu einer niaserie anglaise. — „...   \n",
       "173  1888     23  [Auch ein Gebot der Menschenliebe. — Es giebt ...   \n",
       "174  1888     24  [Ecce homo\\nOder:\\nwarum ich Einiges mehr weis...   \n",
       "175  1888     25  [Die große Politik., Ich bringe den Krieg. Nic...   \n",
       "\n",
       "                            matches num_matches  \n",
       "0                                []           0  \n",
       "1                                []           0  \n",
       "2                [Schopenhauersche]           1  \n",
       "3                                []           0  \n",
       "4              [schopenhauerischen]           1  \n",
       "..                              ...         ...  \n",
       "171                              []           0  \n",
       "172                              []           0  \n",
       "173                              []           0  \n",
       "174  [Schopenhauern, Schopenhauers]           2  \n",
       "175                              []           0  \n",
       "\n",
       "[176 rows x 5 columns]"
      ],
      "text/html": "<div>\n<style scoped>\n    .dataframe tbody tr th:only-of-type {\n        vertical-align: middle;\n    }\n\n    .dataframe tbody tr th {\n        vertical-align: top;\n    }\n\n    .dataframe thead th {\n        text-align: right;\n    }\n</style>\n<table border=\"1\" class=\"dataframe\">\n  <thead>\n    <tr style=\"text-align: right;\">\n      <th></th>\n      <th>year</th>\n      <th>group</th>\n      <th>text</th>\n      <th>matches</th>\n      <th>num_matches</th>\n    </tr>\n  </thead>\n  <tbody>\n    <tr>\n      <th>0</th>\n      <td>1869</td>\n      <td>1</td>\n      <td>[Wer heutzutage von Aeschylus Sophocles Euripi...</td>\n      <td>[]</td>\n      <td>0</td>\n    </tr>\n    <tr>\n      <th>1</th>\n      <td>1869</td>\n      <td>2</td>\n      <td>[Das Christenthum, ursprünglich Sache des Tale...</td>\n      <td>[]</td>\n      <td>0</td>\n    </tr>\n    <tr>\n      <th>2</th>\n      <td>1869</td>\n      <td>3</td>\n      <td>[Wir sind leider gewöhnt die Künste in der Ver...</td>\n      <td>[Schopenhauersche]</td>\n      <td>1</td>\n    </tr>\n    <tr>\n      <th>3</th>\n      <td>1870</td>\n      <td>4</td>\n      <td>[Erlangen Samstag den 20. August., Hier seit a...</td>\n      <td>[]</td>\n      <td>0</td>\n    </tr>\n    <tr>\n      <th>4</th>\n      <td>1870</td>\n      <td>5</td>\n      <td>[Gedanken zu\\n„die Tragoedie und die\\nFreigeis...</td>\n      <td>[schopenhauerischen]</td>\n      <td>1</td>\n    </tr>\n    <tr>\n      <th>...</th>\n      <td>...</td>\n      <td>...</td>\n      <td>...</td>\n      <td>...</td>\n      <td>...</td>\n    </tr>\n    <tr>\n      <th>171</th>\n      <td>1888</td>\n      <td>21</td>\n      <td>[Teichm&lt;üller&gt;, Scept&lt;iques&gt; gr&lt;ecs&gt;, Spir, A&lt;...</td>\n      <td>[]</td>\n      <td>0</td>\n    </tr>\n    <tr>\n      <th>172</th>\n      <td>1888</td>\n      <td>22</td>\n      <td>[Randbemerkung zu einer niaserie anglaise. — „...</td>\n      <td>[]</td>\n      <td>0</td>\n    </tr>\n    <tr>\n      <th>173</th>\n      <td>1888</td>\n      <td>23</td>\n      <td>[Auch ein Gebot der Menschenliebe. — Es giebt ...</td>\n      <td>[]</td>\n      <td>0</td>\n    </tr>\n    <tr>\n      <th>174</th>\n      <td>1888</td>\n      <td>24</td>\n      <td>[Ecce homo\\nOder:\\nwarum ich Einiges mehr weis...</td>\n      <td>[Schopenhauern, Schopenhauers]</td>\n      <td>2</td>\n    </tr>\n    <tr>\n      <th>175</th>\n      <td>1888</td>\n      <td>25</td>\n      <td>[Die große Politik., Ich bringe den Krieg. Nic...</td>\n      <td>[]</td>\n      <td>0</td>\n    </tr>\n  </tbody>\n</table>\n<p>176 rows × 5 columns</p>\n</div>"
     },
     "metadata": {},
     "execution_count": 190
    }
   ],
   "source": [
    "# finds all matches\n",
    "output = data\n",
    "output['matches'] = ''\n",
    "output['num_matches'] = ''\n",
    "\n",
    "for i, row in output.iterrows():\n",
    "    chunk = row['text']\n",
    "    chunk = str(chunk)\n",
    "\n",
    "    p=re.compile(r'.*')\n",
    "    iterator = p.finditer(testData)\n",
    "    for match in iterator:\n",
    "        span = match.start()\n",
    "\n",
    "    p = re.compile(r'\\b[Ss]chopenhauer\\w+') # will match all words beginning with 'Schopenhauer' or 'schopenhauer'\n",
    "    output.at[i, 'matches'] = p.findall(chunk)\n",
    "    output.at[i, 'num_matches'] = len(p.findall(chunk))\n",
    "    iterator = p.finditer(testData)\n",
    "\n",
    "positions = []\n",
    "\n",
    "for match in iterator:\n",
    "    newPosition = match.start()\n",
    "    positions.append(newPosition)\n",
    "\n",
    "positions  \n",
    "\n",
    "output"
   ]
  }
 ]
}