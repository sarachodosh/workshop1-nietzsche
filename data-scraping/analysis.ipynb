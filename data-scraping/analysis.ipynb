{
 "metadata": {
  "language_info": {
   "codemirror_mode": {
    "name": "ipython",
    "version": 3
   },
   "file_extension": ".py",
   "mimetype": "text/x-python",
   "name": "python",
   "nbconvert_exporter": "python",
   "pygments_lexer": "ipython3",
   "version": "3.8.3-final"
  },
  "orig_nbformat": 2,
  "kernelspec": {
   "name": "python3",
   "display_name": "Python 3",
   "language": "python"
  }
 },
 "nbformat": 4,
 "nbformat_minor": 2,
 "cells": [
  {
   "cell_type": "code",
   "execution_count": 2,
   "metadata": {},
   "outputs": [],
   "source": [
    "import pandas as pd\n",
    "import json\n",
    "import re"
   ]
  },
  {
   "cell_type": "code",
   "execution_count": 3,
   "metadata": {},
   "outputs": [
    {
     "output_type": "execute_result",
     "data": {
      "text/plain": [
       "nd ausgelassen wie Most, die andern herbe\\\\n\\\\nund zusammenziehend wie Essig. Dies sind nur Bilder, Unsinn daß Most die Belohnung des Siegers war.', 'Wichtig, daß in Sikyon dem Adrast Lieder gesungen werden, die erst offiziell auf Dionys\\\\n\\\\nübertragen werden. Dies waren doch keine Satyrdramen: was hatte Adrast mit Satyrn zu thun? Es waren eben Mysterien.', 'Gab es eine Form der Dichtung, in der wie in einem Keime Tragödie Satyrdrama und Komödie schlummerten?', 'Soll das Satyrdrama noch die\\\\n\\\\nVorstufe für Tragödie und Komödie sein?', 'Ist nicht die Geburt der Tragödie aus dem Dithyramb eine falsche Folgerung aus der wirklichen Entwicklung des Dramas aus dem Dithyramb zu Zeiten des Timotheus usw.? Ist vielleicht daher die falsche Etymologie τράγων ᾠδή entstanden? Wichtig ist der Anstoß, den die Mysterien gegeben haben müssen. Die heilige Aktion mit Theatereffekten im geschlossenen Raume, bei Licht, mit Beleuchtungseffekten. Wahrscheinlich entstand das Drama als öffentliches Mysterium, als eine Reaktion gegen die Geheimthuerei der Priester, zum Schutze der Demokratie seitens der Obergewalt. Ich denke, die Tyrannen führen diese „öffentlichen Mysterien“ ein, aus Opposition gegen das Priesterthum der Mysterien. Von Pisistratus wissen wir, daß er Thespis begünstigte.', 'Die ältesten Orgeln des Mittelalters hatten Tasten von der Breite eines halben Schuh\\\\n\\\\nund merkliche Zwischenräume und mußten mit den Fäusten oder Ellenbogen in Bewegung gesetzt werden.', 'Gegensatz des einstimmigen weltlichen Gesangs und der gelehrten Musik, die nur mehrstimmigen Gesang kennt. Die begleitenden Instrumente unisono mit der Stimme.', 'Die Chormusik entwickelt sich zuerst kunstmäßig. Nirgends aber Übereinstimmung zwischen Text und Musik. Dies gilt alles von den Niederländern. Absoluter Indifferentismus, ja Hohn\\\\n\\\\ngegen die Textesworte, die sinnlos durcheinander und verzerrt gesungen wurden.', 'Sehr originell, wie man dem Mangel an Ausdruck begegnete: man färbte die Noten mit der Farbe der Dinge, von denen die Rede war, Pflanzen Felder Weinberge grün, Licht und Sonne Purpur usw. Es war dies Litteraturmusik, Lesemusik. Höchst wichtig, daß auch die Musikentwicklung diesen unnatürlichen Weg gegangen ist, wie das deutsche Drama.', 'Allen diesen Standpunkten gegenüber sind die Griechen unvergängliche Muster.', 'Cardinal Domenico Capranica sagte dem Papst Nicolaus V: „wenn sie da zusammen singen, kommen sie mir vor, wie ein Sack voll kleiner Schweine, denn ich höre wohl einen furchtbaren Lärm und ein Quieken und Schreien durch einander, kann aber nicht einen einzigen artikulirten Laut unterscheiden.“', 'Der Ursprung aus dem Satyrdrama ist mir wunderlich fremd: doch sagt es ja der Name. Jedenfalls müssen Dithyramb und Phallika verschieden sein.', 'Und daß das Satyrspiel später wieder willkürlich-offiziell restaurirt wird? Ist das nicht μυθοποιία?', 'Die τραγωδία wird zunächst eine singende Gruppe im Kostüm gewesen sein.', 'Die Phallika eine wandernde Prozession mit Lied und Possenreissern. Also natürlich dialogisch vom Beginn, mit wechselnder Umgebung und immer neuen Anlässen zu Spott und Hohn, ganz persönlichster Art: ein Fastnachtsspiel, eine Mummerei durch die Stadt ziehend.', 'Sind vielleicht die ἐξάρχοντες τοῦ διθυράμβου die, welche zunächst das Ganze, die singende Gruppe zu erklären haben? Etwa in einem Euripideischen Prolog? Oder ist letzterer nur mit Unrecht als archaischer Prolog bezeichnet? Ich glaube. Wie kommt es, daß nur an den Dithyramb sich Schaustellungen anknüpfen, nicht an die Päane\\\\n\\\\netc.?', 'Die griechische Tragödie ist von maßvollster Phantasie: nicht aus Mangel an derselben, wie die Komödie beweist, sondern aus einem bewußten Princip. Gegensatz dazu die englische Tragödie mit ihrem phantastischen Realismus, viel jugendlicher, sinnlich ungestümer, dionysischer, traumtrunkener.', 'Der religiöse Chortanz mit seinem Andante umschränkte die Phantasie des griechischen Tragikers: lebende Bilder, nach den gemalten der Tempelwände.', 'Zu den lebenden Bildern Musik, andauernde: dies bedingt einen Gang der Entwicklung und ein pathetisches Gemüthsleben im Andante. Euripides will ausdrücklich nicht durch die Neuheit des Stoffs, durch die Überraschungen der Fabel packen: sondern durch die pathetischen Scenen, die er aus der dürren Fabel schafft. Vor allem aber will er durch den Prolog den Zuhörer belehren, wie er sich die Fabel gemodelt hat: damit der Zuhörer nicht mit falschen Präsumptionen dasitzt.', 'Sehr wichtig, daß das Drama nicht unmittelbar aus dem Epos entspringt: wie dies bei dem englischen deutschen französischen Drama ist: sondern aus einer musikalisch-lyrischen Epik. Denken wir an den Pythios Nomos des Sakadas: zu dem, was hier die Musik darstellte, wurden Bilder gestellt: natürlich mußten bekannte Stoffe genommen werden, damit nicht zuviel zu entwickeln blieb, sondern der reine Gefühlserguß sich bald und leicht vor aller Augen und Gedächtniß motivirte. Mir scheint es, als ob die Komödie einen wesentlich andern Ursprung habe: von ihr beeinflußt bekommt die Tragödie das Dialogisch-Dialektische.', 'Zum deus ex machina. In monarchischen Staaten wird der deus ex machina im Schauspiel häufig nur der Fürst sein: niemals in Athen. Die Könige der Griechen können allein die Tragik des Lebens recht verstehn, weil sie hoch genug gestellt sind: darum spielen die Perser am Hofe des Darius-Xerxes.', 'Die vornehmen jungen Männer auf der englischen Bühne rauchten (1616 Todesjahr Shakespeares): ihre Stühle standen auf der Scene. Fletcher beklagt sich. — Man spielte nachmittags: der Bürgerstand\\\\n\\\\naß um 11 Uhr zu Mittag, um 6 zu Abend: das Schauspiel fällt hinein.', 'Shakespeare ist offenbar von seiner Gegenwart nicht hinreichend begriffen worden: dies beweisen die Liebhabereien des Publikums, die Parodien seiner Sachen usw.', 'Auflösungen vor dem Richterstuhl des Königs, sehr häufig in der englischen Komödie, eine Art des deus ex machina.', 'Wichtige Unterschiede der\\\\n\\\\ngriechischen Theater\\\\n\\\\n: die Aufführungen waren periodisch — mit grossen Zwischenräumen: die Zuschauer nicht nach dem Range eingetheilt: das Ganze im Einklang und Zusammenklang mit der Volksreligion, mit dem Priesterthum: kein Gewinn an Geld war zu erhoffen für den Dichter: die Zuschauer waren Männer: jedenfalls die Richter ältere Männer: anständige Frauen waren ausgeschlossen: Aktion durchaus im Freien: Spielzeit am hellen Tage: wenige Schauspieler, die viel übernehmen mußten und Zeit haben mußten sich auszuruhn: Masken, keine individuellen Züge: ungeheure Dimensionen, daher viel plastische-langruhende\\\\n\\\\nScenen: langsamster Rhythmus des Ganzen: Andante vorherrschend. Volkstheater durchaus.', 'Die Passionen auf Wegen zur Wallfahrtsstätte: wenn man diese wandelnd denkt und den Zuschauer fest stehend, dann ein Vorspiel des Dramas.', 'Ich komme immer wieder darauf, daß Euripides die Konsequenzen des Volksglaubens übertreibend ans Licht stellen wollte: vornehmlich in den Bacchen: er warnt vor den Mythen, zeigt z.B. Aphrodite, die einen reinen Jüngling zu Grunde richtet, Hera und Iris, die Herakles in Raserei versetzen, daß er Weib und Kind erwürgt. Sollte nicht Ironie sein der Vers der Bacchen?', 'Was fromme Väter uns gelehrt, was uns die Zeit', 'Vorlängst geheiligt, kein Vernünfteln stößt es um,', 'Auch wenns der höchste Menschengeist ausklügelte?', 'Bernhardy nennt Euripides den Sprecher und Sittenmaler der Ochlokratie, seine Dichtung ihr ehrwürdiges Denkmal.', 'O. Müller bemerkt, Euripides fasse den Mythos nicht mehr wie eine Grundlage und Weissagung der Gegenwart, sondern ergreife nur die Gelegenheit, den Athenern durch den Preis ihrer Nationalhelden und die Schmähung der Heroen ihrer Feinde zu gefallen.', 'Schnelligkeit der Entwicklung der Tragödie: Königin Elisabeth von England hat unter ihrer Regierung das Drama von der Marionette aufwärts bis zu der höchsten Höhe sich entwickeln sehn.', 'Das französische Theater des Mittelalters, die Mysterien, geistlichen und weltlichen Inhalts, stirbt aus mit dem Dialekt. Die Blüthe des deutschen Fastnachtspiels\\\\n\\\\nfällt ins 15te Jahrhundert. Es lebt noch im 16ten und stirbt in den Kämpfen der Reformation. Beide Litteraturen sind dialogisch: sie blühten ohne Folge.', 'Das spanische Theater in Portugal anhebend mit dem Anfang des 16. Jahrhunderts, dann springt es über Andalusien nach Castilien, wo es nach kleinen Anfängen sich fast gleichzeitig mit der englischen Bühne entwickelt. Es entwickelt sich unangefochten, blüht durch’s ganze 17te Jahrhundert und erst mit Eintritt des 18ten stirbt es an Erschöpfung. Es hat fast 200 Jahre gelebt.', 'Das altenglische Theater erhebt sich in der Mitte des 16ten Jahrhunderts und erreicht die Höhe mit dem Antritt des 17. Es stirbt in der Mitte dieses Jahrhunderts gewaltsam durch die politische Revolution. Seine Blüthe kaum 100 Jahre.', 'Wichtigkeit der\\\\n\\\\nVolkstheater\\\\n\\\\n. In Spanien und England gieng das Theater von ganz volksthümlichen Grundlagen\\\\n\\\\naus und wurde nach und nach Hoftheater. In Frankreich war das mittelalterliche Volksdrama mit dem Dialekt ausgestorben. Corneille bemächtigt sich auf rein gelehrtem Wege der Bühne und nimmt die fertige Form von Spanien herüber: das Unglück ist, daß <sie> von vorn herein Hofbühne <war> und nie wieder die volksthümliche Basis fand. Das deutsche Fastnachtsspiel durch Reformation untergraben: jetzt isolirte Versuche von Gelehrten, bis auf Lessing. Jetzt Einfluß Shakespeares\\\\n\\\\n. Durch ihn ist sie der Beschränkung durch antike Nachahmung entgangen, welche die ursprünglich spanische Bühne der Franzosen in Fesseln schlug. (Vornehmheit der attischen Schauspiele.)', 'Einfluß der Weiber. Auf der altenglischen Bühne spielten Knaben die Weiberrollen und eben durch diese ursprünglich sittlichscheue Institution wurde die Darstellung in die maßloseste Indezenz getrieben. Aristophanes Zoten sind wilder Übermuth in einzelnen Ausbrüchen, gegenüber der Immoralität der letzten altenglischen Theaterschule.', 'Winckelmann sagt, die Schönheit sei bei den Alten die Zunge an der Wage des Ausdrucks gewesen.', 'Die Anmuth des Schrecklichen — die „furchtbaren Grazien“: nur den Alten recht bekannt.', 'Faunische Züge der Verzweiflung: z.B. bei Kleist, siehe den Abschiedsbrief, oder das Bild Lessings über den Tod des Kleinen sammt der Mutter.', 'Der Philosoph findet, wie der geplagte und todtmüde Oedipus, erst im Haine der Furien Ruhe und Frieden.', 'Schlegel nennt die sophokleische Poesie einen heiligen Hain der dunkeln Schicksalsgöttinnen, worin Lorbeer, Oelbäume\\\\n\\\\nund Weinreben grünen und die Lieder der Nachtigallen unaufhörlich tönen.', '„Vollkommenheit in Kunst und Poesie verglichen mit dem Gipfel eines steilen Bergs, wo sich eine hinaufgewälzte Last nicht lange halten kann, sondern sogleich an der anderen Seite unaufhaltsam wieder hinunterrollt. Dies geht schnell und mit Leichtigkeit vor sich, es sieht sich bequem mit an, denn die Masse folgt ihrem natürlichen Hange: während das mühsame Hinanstreben ein gewissermaßen peinlicher Anblick ist.“', 'Plato beschuldigt die tragischen Dichter, sie gäben die Menschen in die Gewalt der Leidenschaften und machten sie weichlich, indem sie ihren Helden übermäßige Klagen in den Mund legten.', '„Die Darstellung des Euripides nimmt sich Vertraulichkeiten gegen die Götter heraus.“', 'Lessing über die Prologe: Euripides verlasse sich nur auf die Wirksamkeit der Situationen und habe nicht auf die Spannung der Neugier gerechnet. — Schlegel meint, man möchte diese Weise mit den Zetteln aus dem Munde der Figuren auf alten Gemälden vergleichen. Sehr mit Unrecht: ein historisches Bild ist so lange wirkungslos, so lange wir nicht die Personen in den Zusammenhang der Handlung gebracht haben: dies ist eine Aufgabe, die bei Gemälden gefordert werden darf, nicht bei vorübergehenden Schauspielen: denn so lange wir rechnen, genießen wir nicht.', 'Nach Schlegel erhoben sich die dei ex machina nur durch das Schweben der Maschine über die Menschen.', 'II. Der Komiker Philemon sagt „wenn die Todten in der That noch Empfindung hätten, wie einige meinen, so ließe ich mich aufhängen, um den Euripides zu sehen.“', 'Enormes Wagniß des Euripides, sich vom delphischen Orakel zu emancipiren. Trotzdem nach dem Orakel fast so weise als Socrates.', 'II. Aristophanes sagt „o Leben und Menander, wer von euch beiden hat den andern nachgeahmt?“', 'Lessing sagt: es ist ein durchaus ekler Anblick, eine Spinne die andre fressen zu sehn (zwei Kritiker die sich gegenseitig todt machen wollen).', 'Schlegel sagt, die Furcht vor dem Lächerlichen sei das Gewissen der französischen Tragiker.', 'Die Furcht vor dem Schrecklichen das des bürgerlichen Rührstücks bei den Griechen.', 'Zur Rhetorik bei Euripides: „die conventionelle Würde ist ein Panzer, welcher verhütet, daß der Schmerz ins Innerste dringt. Die Helden im französischen Trauerspiel gleichen den Königen auf altfränkischen Kupferstichen, welche sich mit Mantel Krone und Scepter zu Bett legen“.', 'Schlegel findet die „Heiligkeit des Moments“ nicht genug geehrt: lyrische Ruhepunkte dafür in der alten Tragödie.', 'Jeder Held und jede Heldin schleppt einen Vertrauten mit sich, wie einen diensthabenden Kammerherrn.', 'Von vielen Euripideischen Prologen gilt, was Chaulieu von Crebillons Rhadamist sagt: „das Stück wäre vollkommen klar, hätte es nicht die Exposition.“', 'Die Euripideische Tragödie ist ähnlich wie die französische nach einem abstrakten Begriff gebildet. Schlegel: „sie verlangten tragische Würde und Größe, tragische Situationen, Leidenschaften und Pathos, ganz nackt und rein, ohne allen fremdartigen Zusatz.“', 'Euripides reflexirte\\\\n\\\\n: die Voraussetzungen muß jeder bereits haben, um von vorn herein lebhaft sympathisiren zu können. Muß er sie sich langsam aus- und zusammenrechnen, so geht das Gefühl inzwischen verloren: und was schlimmer ist, er verrechnet sich vielleicht. Darum der Prolog.', '„Wie\\\\n\\\\nfüllte man die durch Weglassung des Lyrischen entstandene Lücke im französischen Drama aus? Durch Intrigue.“', 'Die dumme Lehre von der poetischen Gerechtigkeit gehört ins bürgerliche Familienschauspiel, in die Wiederspiegelung des Philisterdaseins: sie ist der Tod der Tragödie.', 'Gebrauch, daß vornehme Personen ihre Sitze auf der Scene selbst zu beiden Seiten hatten und den Schauspielern kaum die Breite von zehn Schritten zur Handlung ließen. Diesem „Chor“ zuliebe veränderte man nicht die Dekoration! Alle Theatereffekte bedürfen der Entfernung: also wurden sie unmöglich. Die Aufgabe war ein Oelgemälde wirksam zu machen, das mit dem Mikroskop angeschaut wurde. Die Bühne wird förmlich wie ein Vorzimmer.', 'Ein Geist, der bei einer Mittagsmahlzeit erscheint, macht sich lächerlich. Schlegels glänzendes Bild: das homerische Epos ist in der Poesie was die halberhobene Arbeit in der Skulptur, die Tragödie was die freistehende Gruppe. — Das Basrelief ist gränzenlos, es läßt sich vor- und rückwärts weiter fortsetzen, weswegen die Alten auch am liebsten Gegenstände dazu gewählt, die sich ins Unbestimmbare ausdehnen lassen, als Opferzüge, Tänze, Reihen von Kämpfen usw. Deshalb haben sie auch an runden Flächen als an Vasen, am Fries einer Rotunde, Basreliefs angebracht, wo uns die beiden Enden durch die Krümmung entrückt werden und so, wie wir uns fortbewegen, eines erscheint und das andre verschwindet. Die Lesung der homerischen Gesänge gleicht gar sehr einem solchen Herumgehen, indem sie uns immer bei dem Vorliegenden festhalten und das Vorhergehende und Nachfolgende verschwinden lassen.', 'II. ', 'In Socrates der naive Rationalismus in dem Ethischen. Alles muß bewußt sein, um ethisch zu sein.', 'II. ', 'Euripides ist der Dichter dieses naiven Rationalismus. Feind allem Instinktiven, sucht er das Absichtliche und Bewußte. Die Leute sind, wie <sie> sprechen, nicht mehr.', 'II. ', 'Die Figuren des Sophokles und Aeschylus sind viel tiefer und größer als ihre Worte: sie stammeln über und von sich.', 'II. ', 'Euripides schafft sich die Gestalten, indem er sie anatomisch entstehn läßt: es giebt nichts Verborgenes in ihnen.', 'II. ', 'Sokrates ist in der Ethik dasselbe was Demokrit in der Physik ist: eine begeisterte Engherzigkeit, eine enthusiastische Oberflächlichkeit: doch spricht die Urtheile von „engherzig“ und „oberflächlich“ erst die deutsche Nachwelt, die instinktiv reicher und stärker ist als die hellenische: der Fanatiker der Erkenntniss.', 'II. ', 'Euripides ist der erste Dramatiker, der einer bewußten Aesthetik folgt.', 'II. ', 'Die Mythologie des Euripides als die idealistische Projection eines ethischen Rationalismus.', 'II. ', 'Euripides hat von Socrates die Vereinzelung des Individuums gelernt.', 'I. Der Chor in der Tragödie: Öffentlichkeit des ganzen Treibens: alles wird im Freien berathen.', 'I. Eine Nothwendigkeit, eine Gruppe von Männern oder Frauen zu erdenken, die mit den handelnden Personen eng verbunden sind. Nicht der ideale Zuschauer, sondern der lyrisch-musikalische Resonanzboden des Dramas, d.h. der Handelnden.', 'I. Es müssen häufige Anlässe gesucht werden zum Ausbruch des Massengefühls, also Gebetsstimmungen vornehmlich.', 'I. Der religiöse Ursprung und die Cultfeier hielt die Chorgesänge fest. Die Satyrn sind zuerst übergegangen in ernste nichtbacchische Figuren: der Ursprung des Tragisch-Ernsten liegt im Chor. Die Tragödien vertiefen die ganze heiter-homerisch-olympische Volksmythologie. Dem aeschyleischen Zeitalter gegenüber, einem sentimentalischen, ist das kyklisch-homerische naiv.', 'I. Die Typen der großen tragischen Gestalten sind die großen zeitgenössischen Männer: die aeschyleischen Helden haben mit Heraclit Verwandtschaft.', 'Die ethische Philosophie der Tragiker: wie steht sie zu den anerkannten Philosophen? Äußerlich gar nicht (außer bei Euripides), man schied Poesie und Philosophie. Die Ethik gehörte der ersteren an: deshalb ein Theil der Pädagogik.', 'II. Das philosophische Drama des Plato gehört weder zur Tragödie noch zur Komödie: es fehlt der Chor, das Musikalische, das Religiöse des Motivs. Es ist vielmehr Epik und Schule Homers. Es ist der antike Roman. Vor allem nicht bestimmt zur Praxis, sondern zum Lesen: es ist eine Rhapsodie. Es ist das Litteraturdrama.', 'Trilogie.', 'In der Blüthezeit Brauch, daß an den großen Dionysien (am Hauptfeste der dramatischen Aufführungen) von jedem Tragiker vier Dramen zur Aufführung kamen, drei Tragödien,\\\\n\\\\nein Satyrdrama, während die Komödiendichter nur mit einem auftraten. Solche Listen sind uns mehrfach noch erhalten: zufällig nicht von Sophokles. Bei Euripides findet unter den Stücken kein Zusammenhang statt. Dagegen ausnahmslos bei Aeschylus. Orestie. Herstellung der Tetralogie. Aeschylus wählte also einen mythologischen Stoff, theilte ihn in vier Theile, drei Bilder tragisch-ernster Färbung, eine heitere Seite desselben Stoffes. Die dramatische Bewegung durch die Aufeinanderfolge der Dramen hergestellt: drei Akte. Das Satyrdrama Forderung des dionysischen Kultes.', 'Alterthümliche Betrachtungen.', 'Die Aesthetik des Aristoteles.', 'Die Alterthumsstudien.', 'Zur Aesthetik der Tragiker I. II.', 'Homers Persönlichkeit.', 'Pessimismus im Alterthum.', 'Griechische Lyrik.', 'Demokrit.', 'Heraklit.', 'Pythagoras.', 'Empedokles.', 'Sokrates.', 'Blutrache.', 'Die Idee des Geschlechts.', 'Selbstmord.', 'Geselligkeit und Einsamkeit.', 'Handwerk und Kunst.', 'Freundschaft.', 'Hesiods Mythologie.', 'Die Philosophen als Künstler.', 'Philologie der Gegenwart und Zukunft.', 'Litteraturgeschichte im Alterthum.', 'Homerfrage.', 'Musikdrama.', 'Socrates und das Drama.', 'Aristoteles’ Aesthetik.', 'Pessimismus.', 'Zur Aesthetik der Musik.', 'Das a priori construirte Hellenenthum.', '1870', 'April — Philologus: Democritea.', 'Februar — Fleckeisen: Fragmente des Alcidamas. Text.', 'März — Rheinisches Museum: Über die Form des Wettkampfes.', 'Mai usw. im Herbst: Vortrag: Hesiod-Homer, Wettkampf.', 'Democritea. ', 'Laertiana.', '30 Seiten.', 'Zustand unterdrückter Idealität 1869.', 'Erkenntniss\\\\ndessen Weihnach-\\\\nten auf Tribschen.']\""
      ]
     },
     "metadata": {},
     "execution_count": 3
    }
   ],
   "source": [
    "data = pd.read_json('test.json')\n",
    "data = pd.DataFrame(data)\n",
    "\n",
    "testData = data.loc[0, 'text']\n",
    "testData = str(testData)"
   ]
  },
  {
   "source": [
    "p=re.compile(r'\\b[Aa]ls\\b')\n",
    "p.findall(testData)\n",
    "#len(p.findall(testData))"
   ],
   "cell_type": "code",
   "metadata": {},
   "execution_count": 24,
   "outputs": [
    {
     "output_type": "execute_result",
     "data": {
      "text/plain": [
       "['als',\n",
       " 'als',\n",
       " 'als',\n",
       " 'als',\n",
       " 'als',\n",
       " 'als',\n",
       " 'als',\n",
       " 'als',\n",
       " 'Als',\n",
       " 'als',\n",
       " 'als',\n",
       " 'als',\n",
       " 'als',\n",
       " 'als',\n",
       " 'als',\n",
       " 'als',\n",
       " 'als',\n",
       " 'als',\n",
       " 'als',\n",
       " 'als',\n",
       " 'als',\n",
       " 'als',\n",
       " 'als',\n",
       " 'als',\n",
       " 'als',\n",
       " 'als',\n",
       " 'als',\n",
       " 'als',\n",
       " 'als',\n",
       " 'als',\n",
       " 'als',\n",
       " 'als',\n",
       " 'als',\n",
       " 'als',\n",
       " 'als',\n",
       " 'als',\n",
       " 'als',\n",
       " 'als',\n",
       " 'als',\n",
       " 'als',\n",
       " 'als',\n",
       " 'Als',\n",
       " 'als',\n",
       " 'als',\n",
       " 'als',\n",
       " 'als',\n",
       " 'als',\n",
       " 'als',\n",
       " 'als',\n",
       " 'als',\n",
       " 'als',\n",
       " 'als',\n",
       " 'als',\n",
       " 'als',\n",
       " 'als']"
      ]
     },
     "metadata": {},
     "execution_count": 24
    }
   ]
  },
  {
   "cell_type": "code",
   "execution_count": 32,
   "metadata": {
    "tags": []
   },
   "outputs": [
    {
     "output_type": "execute_result",
     "data": {
      "text/plain": [
       "[110,\n",
       " 240,\n",
       " 359,\n",
       " 389,\n",
       " 415,\n",
       " 936,\n",
       " 3073,\n",
       " 3181,\n",
       " 3427,\n",
       " 3516,\n",
       " 4252,\n",
       " 4365,\n",
       " 5074,\n",
       " 6451,\n",
       " 7554,\n",
       " 7615,\n",
       " 9873,\n",
       " 9955,\n",
       " 10445,\n",
       " 10551,\n",
       " 10690,\n",
       " 10929,\n",
       " 14411,\n",
       " 15102,\n",
       " 16233,\n",
       " 16282,\n",
       " 16333,\n",
       " 16581,\n",
       " 17112,\n",
       " 17427,\n",
       " 17741,\n",
       " 17754,\n",
       " 17886,\n",
       " 18020,\n",
       " 18057,\n",
       " 19795,\n",
       " 19899,\n",
       " 19922,\n",
       " 19985,\n",
       " 20027,\n",
       " 21051,\n",
       " 21197,\n",
       " 21546,\n",
       " 23593,\n",
       " 25841,\n",
       " 26015,\n",
       " 26093,\n",
       " 26436,\n",
       " 26916,\n",
       " 26944,\n",
       " 28237,\n",
       " 30005,\n",
       " 30372,\n",
       " 31105,\n",
       " 31238,\n",
       " 31477,\n",
       " 31505,\n",
       " 33902,\n",
       " 34935,\n",
       " 35457,\n",
       " 35703,\n",
       " 40965,\n",
       " 42716,\n",
       " 44920,\n",
       " 45500,\n",
       " 45587,\n",
       " 46340,\n",
       " 46793,\n",
       " 46968,\n",
       " 47526,\n",
       " 49126,\n",
       " 49848]"
      ]
     },
     "metadata": {},
     "execution_count": 32
    }
   ],
   "source": [
    "# finds locations (start, end) of all matches\n",
    "p=re.compile(r'als')\n",
    "iterator = p.finditer(testData)\n",
    "\n",
    "positions = []\n",
    "\n",
    "for match in iterator:\n",
    "    newPosition = match.start()\n",
    "    positions.append(newPosition)\n",
    "\n",
    "positions"
   ]
  },
  {
   "cell_type": "code",
   "execution_count": 190,
   "metadata": {},
   "outputs": [
    {
     "output_type": "execute_result",
     "data": {
      "text/plain": [
       "     year  group                                               text  \\\n",
       "0    1869      1  [Wer heutzutage von Aeschylus Sophocles Euripi...   \n",
       "1    1869      2  [Das Christenthum, ursprünglich Sache des Tale...   \n",
       "2    1869      3  [Wir sind leider gewöhnt die Künste in der Ver...   \n",
       "3    1870      4  [Erlangen Samstag den 20. August., Hier seit a...   \n",
       "4    1870      5  [Gedanken zu\\n„die Tragoedie und die\\nFreigeis...   \n",
       "..    ...    ...                                                ...   \n",
       "171  1888     21  [Teichm<üller>, Scept<iques> gr<ecs>, Spir, A<...   \n",
       "172  1888     22  [Randbemerkung zu einer niaserie anglaise. — „...   \n",
       "173  1888     23  [Auch ein Gebot der Menschenliebe. — Es giebt ...   \n",
       "174  1888     24  [Ecce homo\\nOder:\\nwarum ich Einiges mehr weis...   \n",
       "175  1888     25  [Die große Politik., Ich bringe den Krieg. Nic...   \n",
       "\n",
       "                            matches num_matches  \n",
       "0                                []           0  \n",
       "1                                []           0  \n",
       "2                [Schopenhauersche]           1  \n",
       "3                                []           0  \n",
       "4              [schopenhauerischen]           1  \n",
       "..                              ...         ...  \n",
       "171                              []           0  \n",
       "172                              []           0  \n",
       "173                              []           0  \n",
       "174  [Schopenhauern, Schopenhauers]           2  \n",
       "175                              []           0  \n",
       "\n",
       "[176 rows x 5 columns]"
      ],
      "text/html": "<div>\n<style scoped>\n    .dataframe tbody tr th:only-of-type {\n        vertical-align: middle;\n    }\n\n    .dataframe tbody tr th {\n        vertical-align: top;\n    }\n\n    .dataframe thead th {\n        text-align: right;\n    }\n</style>\n<table border=\"1\" class=\"dataframe\">\n  <thead>\n    <tr style=\"text-align: right;\">\n      <th></th>\n      <th>year</th>\n      <th>group</th>\n      <th>text</th>\n      <th>matches</th>\n      <th>num_matches</th>\n    </tr>\n  </thead>\n  <tbody>\n    <tr>\n      <th>0</th>\n      <td>1869</td>\n      <td>1</td>\n      <td>[Wer heutzutage von Aeschylus Sophocles Euripi...</td>\n      <td>[]</td>\n      <td>0</td>\n    </tr>\n    <tr>\n      <th>1</th>\n      <td>1869</td>\n      <td>2</td>\n      <td>[Das Christenthum, ursprünglich Sache des Tale...</td>\n      <td>[]</td>\n      <td>0</td>\n    </tr>\n    <tr>\n      <th>2</th>\n      <td>1869</td>\n      <td>3</td>\n      <td>[Wir sind leider gewöhnt die Künste in der Ver...</td>\n      <td>[Schopenhauersche]</td>\n      <td>1</td>\n    </tr>\n    <tr>\n      <th>3</th>\n      <td>1870</td>\n      <td>4</td>\n      <td>[Erlangen Samstag den 20. August., Hier seit a...</td>\n      <td>[]</td>\n      <td>0</td>\n    </tr>\n    <tr>\n      <th>4</th>\n      <td>1870</td>\n      <td>5</td>\n      <td>[Gedanken zu\\n„die Tragoedie und die\\nFreigeis...</td>\n      <td>[schopenhauerischen]</td>\n      <td>1</td>\n    </tr>\n    <tr>\n      <th>...</th>\n      <td>...</td>\n      <td>...</td>\n      <td>...</td>\n      <td>...</td>\n      <td>...</td>\n    </tr>\n    <tr>\n      <th>171</th>\n      <td>1888</td>\n      <td>21</td>\n      <td>[Teichm&lt;üller&gt;, Scept&lt;iques&gt; gr&lt;ecs&gt;, Spir, A&lt;...</td>\n      <td>[]</td>\n      <td>0</td>\n    </tr>\n    <tr>\n      <th>172</th>\n      <td>1888</td>\n      <td>22</td>\n      <td>[Randbemerkung zu einer niaserie anglaise. — „...</td>\n      <td>[]</td>\n      <td>0</td>\n    </tr>\n    <tr>\n      <th>173</th>\n      <td>1888</td>\n      <td>23</td>\n      <td>[Auch ein Gebot der Menschenliebe. — Es giebt ...</td>\n      <td>[]</td>\n      <td>0</td>\n    </tr>\n    <tr>\n      <th>174</th>\n      <td>1888</td>\n      <td>24</td>\n      <td>[Ecce homo\\nOder:\\nwarum ich Einiges mehr weis...</td>\n      <td>[Schopenhauern, Schopenhauers]</td>\n      <td>2</td>\n    </tr>\n    <tr>\n      <th>175</th>\n      <td>1888</td>\n      <td>25</td>\n      <td>[Die große Politik., Ich bringe den Krieg. Nic...</td>\n      <td>[]</td>\n      <td>0</td>\n    </tr>\n  </tbody>\n</table>\n<p>176 rows × 5 columns</p>\n</div>"
     },
     "metadata": {},
     "execution_count": 190
    }
   ],
   "source": [
    "# finds all matches\n",
    "output = data\n",
    "output['matches'] = ''\n",
    "output['num_matches'] = ''\n",
    "\n",
    "for i, row in output.iterrows():\n",
    "    chunk = row['text']\n",
    "    chunk = str(chunk)\n",
    "\n",
    "    p=re.compile(r'.*')\n",
    "    iterator = p.finditer(testData)\n",
    "    for match in iterator:\n",
    "        span = match.start()\n",
    "\n",
    "    p = re.compile(r'\\b[Ss]chopenhauer\\w+') # will match all words beginning with 'Schopenhauer' or 'schopenhauer'\n",
    "    output.at[i, 'matches'] = p.findall(chunk)\n",
    "    output.at[i, 'num_matches'] = len(p.findall(chunk))\n",
    "    iterator = p.finditer(testData)\n",
    "\n",
    "positions = []\n",
    "\n",
    "for match in iterator:\n",
    "    newPosition = match.start()\n",
    "    positions.append(newPosition)\n",
    "\n",
    "positions  \n",
    "\n",
    "output"
   ]
  }
 ]
}