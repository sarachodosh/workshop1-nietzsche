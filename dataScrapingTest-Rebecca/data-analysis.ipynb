{
 "metadata": {
  "language_info": {
   "codemirror_mode": {
    "name": "ipython",
    "version": 3
   },
   "file_extension": ".py",
   "mimetype": "text/x-python",
   "name": "python",
   "nbconvert_exporter": "python",
   "pygments_lexer": "ipython3",
   "version": "3.8.3-final"
  },
  "orig_nbformat": 2,
  "kernelspec": {
   "name": "python3",
   "display_name": "Python 3.8.3 64-bit ('base': conda)",
   "metadata": {
    "interpreter": {
     "hash": "dca0ade3e726a953b501b15e8e990130d2b7799f14cfd9f4271676035ebe5511"
    }
   }
  }
 },
 "nbformat": 4,
 "nbformat_minor": 2,
 "cells": [
  {
   "cell_type": "code",
   "execution_count": 51,
   "metadata": {},
   "outputs": [
    {
     "output_type": "execute_result",
     "data": {
      "text/plain": [
       "       year  group                                               text  \\\n",
       "index                                                                   \n",
       "0      1869      1  Wer heutzutage von Aeschylus Sophocles Euripid...   \n",
       "1      1869      2  Das Christenthumursprünglich Sache des Talente...   \n",
       "2      1869      3  Wir sind leider gewöhnt die Künste in der Vere...   \n",
       "3      1870      4  Erlangen Samstag den 20. August.Hier seit acht...   \n",
       "4      1870      5  Gedanken zu„die Tragoedie und dieFreigeister“„...   \n",
       "\n",
       "       charCount  \n",
       "index             \n",
       "0          48185  \n",
       "1          16322  \n",
       "2          35696  \n",
       "3           6273  \n",
       "4          42980  "
      ],
      "text/html": "<div>\n<style scoped>\n    .dataframe tbody tr th:only-of-type {\n        vertical-align: middle;\n    }\n\n    .dataframe tbody tr th {\n        vertical-align: top;\n    }\n\n    .dataframe thead th {\n        text-align: right;\n    }\n</style>\n<table border=\"1\" class=\"dataframe\">\n  <thead>\n    <tr style=\"text-align: right;\">\n      <th></th>\n      <th>year</th>\n      <th>group</th>\n      <th>text</th>\n      <th>charCount</th>\n    </tr>\n    <tr>\n      <th>index</th>\n      <th></th>\n      <th></th>\n      <th></th>\n      <th></th>\n    </tr>\n  </thead>\n  <tbody>\n    <tr>\n      <th>0</th>\n      <td>1869</td>\n      <td>1</td>\n      <td>Wer heutzutage von Aeschylus Sophocles Euripid...</td>\n      <td>48185</td>\n    </tr>\n    <tr>\n      <th>1</th>\n      <td>1869</td>\n      <td>2</td>\n      <td>Das Christenthumursprünglich Sache des Talente...</td>\n      <td>16322</td>\n    </tr>\n    <tr>\n      <th>2</th>\n      <td>1869</td>\n      <td>3</td>\n      <td>Wir sind leider gewöhnt die Künste in der Vere...</td>\n      <td>35696</td>\n    </tr>\n    <tr>\n      <th>3</th>\n      <td>1870</td>\n      <td>4</td>\n      <td>Erlangen Samstag den 20. August.Hier seit acht...</td>\n      <td>6273</td>\n    </tr>\n    <tr>\n      <th>4</th>\n      <td>1870</td>\n      <td>5</td>\n      <td>Gedanken zu„die Tragoedie und dieFreigeister“„...</td>\n      <td>42980</td>\n    </tr>\n  </tbody>\n</table>\n</div>"
     },
     "metadata": {},
     "execution_count": 51
    }
   ],
   "source": [
    "#restarting with .contains strategy instead of count\n",
    "\n",
    "import pandas as pd\n",
    "\n",
    "data = pd.read_csv('checking.csv', index_col='index')\n",
    "df = pd.DataFrame(data)\n",
    "df['charCount'] = df['text'].str.len()\n",
    "\n",
    "df.head()"
   ]
  },
  {
   "cell_type": "code",
   "execution_count": 52,
   "metadata": {},
   "outputs": [
    {
     "output_type": "execute_result",
     "data": {
      "text/plain": [
       "       year  group                                               text  \\\n",
       "index                                                                   \n",
       "0      1869      1  [Wer heutzutage von Aeschylus Sophocles Euripi...   \n",
       "1      1869      2  [Das Christenthumursprünglich Sache des Talent...   \n",
       "2      1869      3  [Wir sind leider gewöhnt die Künste in der Ver...   \n",
       "3      1870      4  [Erlangen Samstag den 20,  August, Hier seit a...   \n",
       "4      1870      5  [Gedanken zu„die Tragoedie und dieFreigeister“...   \n",
       "...     ...    ...                                                ...   \n",
       "171    1888     21  [Teichm<üller>Scept<iques> gr<ecs>SpirA<ugust>...   \n",
       "172    1888     22  [Randbemerkung zu einer niaserie anglaise,  — ...   \n",
       "173    1888     23  [Auch ein Gebot der Menschenliebe,  — Es giebt...   \n",
       "174    1888     24  [Ecce homoOder:warum ich Einiges mehr weiss, V...   \n",
       "175    1888     25  [Die große Politik, Ich bringe den Krieg,  Nic...   \n",
       "\n",
       "       charCount  \n",
       "index             \n",
       "0          48185  \n",
       "1          16322  \n",
       "2          35696  \n",
       "3           6273  \n",
       "4          42980  \n",
       "...          ...  \n",
       "171         3854  \n",
       "172        17302  \n",
       "173        21974  \n",
       "174        34469  \n",
       "175        15681  \n",
       "\n",
       "[176 rows x 4 columns]"
      ],
      "text/html": "<div>\n<style scoped>\n    .dataframe tbody tr th:only-of-type {\n        vertical-align: middle;\n    }\n\n    .dataframe tbody tr th {\n        vertical-align: top;\n    }\n\n    .dataframe thead th {\n        text-align: right;\n    }\n</style>\n<table border=\"1\" class=\"dataframe\">\n  <thead>\n    <tr style=\"text-align: right;\">\n      <th></th>\n      <th>year</th>\n      <th>group</th>\n      <th>text</th>\n      <th>charCount</th>\n    </tr>\n    <tr>\n      <th>index</th>\n      <th></th>\n      <th></th>\n      <th></th>\n      <th></th>\n    </tr>\n  </thead>\n  <tbody>\n    <tr>\n      <th>0</th>\n      <td>1869</td>\n      <td>1</td>\n      <td>[Wer heutzutage von Aeschylus Sophocles Euripi...</td>\n      <td>48185</td>\n    </tr>\n    <tr>\n      <th>1</th>\n      <td>1869</td>\n      <td>2</td>\n      <td>[Das Christenthumursprünglich Sache des Talent...</td>\n      <td>16322</td>\n    </tr>\n    <tr>\n      <th>2</th>\n      <td>1869</td>\n      <td>3</td>\n      <td>[Wir sind leider gewöhnt die Künste in der Ver...</td>\n      <td>35696</td>\n    </tr>\n    <tr>\n      <th>3</th>\n      <td>1870</td>\n      <td>4</td>\n      <td>[Erlangen Samstag den 20,  August, Hier seit a...</td>\n      <td>6273</td>\n    </tr>\n    <tr>\n      <th>4</th>\n      <td>1870</td>\n      <td>5</td>\n      <td>[Gedanken zu„die Tragoedie und dieFreigeister“...</td>\n      <td>42980</td>\n    </tr>\n    <tr>\n      <th>...</th>\n      <td>...</td>\n      <td>...</td>\n      <td>...</td>\n      <td>...</td>\n    </tr>\n    <tr>\n      <th>171</th>\n      <td>1888</td>\n      <td>21</td>\n      <td>[Teichm&lt;üller&gt;Scept&lt;iques&gt; gr&lt;ecs&gt;SpirA&lt;ugust&gt;...</td>\n      <td>3854</td>\n    </tr>\n    <tr>\n      <th>172</th>\n      <td>1888</td>\n      <td>22</td>\n      <td>[Randbemerkung zu einer niaserie anglaise,  — ...</td>\n      <td>17302</td>\n    </tr>\n    <tr>\n      <th>173</th>\n      <td>1888</td>\n      <td>23</td>\n      <td>[Auch ein Gebot der Menschenliebe,  — Es giebt...</td>\n      <td>21974</td>\n    </tr>\n    <tr>\n      <th>174</th>\n      <td>1888</td>\n      <td>24</td>\n      <td>[Ecce homoOder:warum ich Einiges mehr weiss, V...</td>\n      <td>34469</td>\n    </tr>\n    <tr>\n      <th>175</th>\n      <td>1888</td>\n      <td>25</td>\n      <td>[Die große Politik, Ich bringe den Krieg,  Nic...</td>\n      <td>15681</td>\n    </tr>\n  </tbody>\n</table>\n<p>176 rows × 4 columns</p>\n</div>"
     },
     "metadata": {},
     "execution_count": 52
    }
   ],
   "source": [
    "#split after each full stop, to paragraphs\n",
    "df['text'] = df['text'].str.split('.')\n",
    "df.to_csv('checking2.csv')\n",
    "df"
   ]
  },
  {
   "cell_type": "code",
   "execution_count": 56,
   "metadata": {},
   "outputs": [
    {
     "output_type": "execute_result",
     "data": {
      "text/plain": [
       "(263676, 77)"
      ]
     },
     "metadata": {},
     "execution_count": 56
    }
   ],
   "source": [
    "max = df['charCount'].max()\n",
    "min = df['charCount'].min()\n",
    "\n",
    "max, min"
   ]
  },
  {
   "cell_type": "code",
   "execution_count": 36,
   "metadata": {},
   "outputs": [
    {
     "output_type": "execute_result",
     "data": {
      "text/plain": [
       "       year  group  charCount  schopenhauer\n",
       "index                                      \n",
       "0      1869      1      48185             0\n",
       "1      1869      2      16322             0\n",
       "2      1869      3      35696             0\n",
       "3      1870      4       6273             0\n",
       "4      1870      5      42980             0\n",
       "...     ...    ...        ...           ...\n",
       "171    1888     21       3854             0\n",
       "172    1888     22      17302             0\n",
       "173    1888     23      21974             0\n",
       "174    1888     24      34469             0\n",
       "175    1888     25      15681             0\n",
       "\n",
       "[176 rows x 4 columns]"
      ],
      "text/html": "<div>\n<style scoped>\n    .dataframe tbody tr th:only-of-type {\n        vertical-align: middle;\n    }\n\n    .dataframe tbody tr th {\n        vertical-align: top;\n    }\n\n    .dataframe thead th {\n        text-align: right;\n    }\n</style>\n<table border=\"1\" class=\"dataframe\">\n  <thead>\n    <tr style=\"text-align: right;\">\n      <th></th>\n      <th>year</th>\n      <th>group</th>\n      <th>charCount</th>\n      <th>schopenhauer</th>\n    </tr>\n    <tr>\n      <th>index</th>\n      <th></th>\n      <th></th>\n      <th></th>\n      <th></th>\n    </tr>\n  </thead>\n  <tbody>\n    <tr>\n      <th>0</th>\n      <td>1869</td>\n      <td>1</td>\n      <td>48185</td>\n      <td>0</td>\n    </tr>\n    <tr>\n      <th>1</th>\n      <td>1869</td>\n      <td>2</td>\n      <td>16322</td>\n      <td>0</td>\n    </tr>\n    <tr>\n      <th>2</th>\n      <td>1869</td>\n      <td>3</td>\n      <td>35696</td>\n      <td>0</td>\n    </tr>\n    <tr>\n      <th>3</th>\n      <td>1870</td>\n      <td>4</td>\n      <td>6273</td>\n      <td>0</td>\n    </tr>\n    <tr>\n      <th>4</th>\n      <td>1870</td>\n      <td>5</td>\n      <td>42980</td>\n      <td>0</td>\n    </tr>\n    <tr>\n      <th>...</th>\n      <td>...</td>\n      <td>...</td>\n      <td>...</td>\n      <td>...</td>\n    </tr>\n    <tr>\n      <th>171</th>\n      <td>1888</td>\n      <td>21</td>\n      <td>3854</td>\n      <td>0</td>\n    </tr>\n    <tr>\n      <th>172</th>\n      <td>1888</td>\n      <td>22</td>\n      <td>17302</td>\n      <td>0</td>\n    </tr>\n    <tr>\n      <th>173</th>\n      <td>1888</td>\n      <td>23</td>\n      <td>21974</td>\n      <td>0</td>\n    </tr>\n    <tr>\n      <th>174</th>\n      <td>1888</td>\n      <td>24</td>\n      <td>34469</td>\n      <td>0</td>\n    </tr>\n    <tr>\n      <th>175</th>\n      <td>1888</td>\n      <td>25</td>\n      <td>15681</td>\n      <td>0</td>\n    </tr>\n  </tbody>\n</table>\n<p>176 rows × 4 columns</p>\n</div>"
     },
     "metadata": {},
     "execution_count": 36
    }
   ],
   "source": [
    "terms = {'schopenhauer': ['schopenhauer', 'schopenhauers', 'schopenhauerischen']}\n",
    "\n",
    "for k, v in terms.items():\n",
    "    df[k] = df.text.str.contains('|'.join(terms[k]))\n",
    "\n",
    "df2 = df.groupby('index').sum().astype(int)\n",
    "\n",
    "df2\n",
    "\n",
    "\n"
   ]
  },
  {
   "cell_type": "code",
   "execution_count": null,
   "metadata": {},
   "outputs": [],
   "source": []
  }
 ]
}