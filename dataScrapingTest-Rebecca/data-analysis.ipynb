{
 "metadata": {
  "language_info": {
   "codemirror_mode": {
    "name": "ipython",
    "version": 3
   },
   "file_extension": ".py",
   "mimetype": "text/x-python",
   "name": "python",
   "nbconvert_exporter": "python",
   "pygments_lexer": "ipython3",
   "version": "3.8.3-final"
  },
  "orig_nbformat": 2,
  "kernelspec": {
   "name": "python3",
   "display_name": "Python 3.8.3 64-bit ('anaconda3': virtualenv)",
   "metadata": {
    "interpreter": {
     "hash": "dca0ade3e726a953b501b15e8e990130d2b7799f14cfd9f4271676035ebe5511"
    }
   }
  }
 },
 "nbformat": 4,
 "nbformat_minor": 2,
 "cells": [
  {
   "cell_type": "code",
   "execution_count": 1,
   "metadata": {},
   "outputs": [
    {
     "output_type": "execute_result",
     "data": {
      "text/plain": [
       "<Response [200]>"
      ]
     },
     "metadata": {},
     "execution_count": 1
    }
   ],
   "source": [
    "import requests\n",
    "\n",
    "testData = requests.get(\"https://raw.githubusercontent.com/sarachodosh/workshop1-nietzsche/main/data-scraping/test.json\"); testData"
   ]
  },
  {
   "cell_type": "code",
   "execution_count": 2,
   "metadata": {},
   "outputs": [
    {
     "output_type": "execute_result",
     "data": {
      "text/plain": [
       "     year  group                                               text\n",
       "0    1869      1  [Wer heutzutage von Aeschylus Sophocles Euripi...\n",
       "1    1869      2  [Das Christenthum, ursprünglich Sache des Tale...\n",
       "2    1869      3  [Wir sind leider gewöhnt die Künste in der Ver...\n",
       "3    1870      4  [Erlangen Samstag den 20. August., Hier seit a...\n",
       "4    1870      5  [Gedanken zu\\n„die Tragoedie und die\\nFreigeis...\n",
       "..    ...    ...                                                ...\n",
       "171  1888     21  [Teichm<üller>, Scept<iques> gr<ecs>, Spir, A<...\n",
       "172  1888     22  [Randbemerkung zu einer niaserie anglaise. — „...\n",
       "173  1888     23  [Auch ein Gebot der Menschenliebe. — Es giebt ...\n",
       "174  1888     24  [Ecce homo\\nOder:\\nwarum ich Einiges mehr weis...\n",
       "175  1888     25  [Die große Politik., Ich bringe den Krieg. Nic...\n",
       "\n",
       "[176 rows x 3 columns]"
      ],
      "text/html": "<div>\n<style scoped>\n    .dataframe tbody tr th:only-of-type {\n        vertical-align: middle;\n    }\n\n    .dataframe tbody tr th {\n        vertical-align: top;\n    }\n\n    .dataframe thead th {\n        text-align: right;\n    }\n</style>\n<table border=\"1\" class=\"dataframe\">\n  <thead>\n    <tr style=\"text-align: right;\">\n      <th></th>\n      <th>year</th>\n      <th>group</th>\n      <th>text</th>\n    </tr>\n  </thead>\n  <tbody>\n    <tr>\n      <th>0</th>\n      <td>1869</td>\n      <td>1</td>\n      <td>[Wer heutzutage von Aeschylus Sophocles Euripi...</td>\n    </tr>\n    <tr>\n      <th>1</th>\n      <td>1869</td>\n      <td>2</td>\n      <td>[Das Christenthum, ursprünglich Sache des Tale...</td>\n    </tr>\n    <tr>\n      <th>2</th>\n      <td>1869</td>\n      <td>3</td>\n      <td>[Wir sind leider gewöhnt die Künste in der Ver...</td>\n    </tr>\n    <tr>\n      <th>3</th>\n      <td>1870</td>\n      <td>4</td>\n      <td>[Erlangen Samstag den 20. August., Hier seit a...</td>\n    </tr>\n    <tr>\n      <th>4</th>\n      <td>1870</td>\n      <td>5</td>\n      <td>[Gedanken zu\\n„die Tragoedie und die\\nFreigeis...</td>\n    </tr>\n    <tr>\n      <th>...</th>\n      <td>...</td>\n      <td>...</td>\n      <td>...</td>\n    </tr>\n    <tr>\n      <th>171</th>\n      <td>1888</td>\n      <td>21</td>\n      <td>[Teichm&lt;üller&gt;, Scept&lt;iques&gt; gr&lt;ecs&gt;, Spir, A&lt;...</td>\n    </tr>\n    <tr>\n      <th>172</th>\n      <td>1888</td>\n      <td>22</td>\n      <td>[Randbemerkung zu einer niaserie anglaise. — „...</td>\n    </tr>\n    <tr>\n      <th>173</th>\n      <td>1888</td>\n      <td>23</td>\n      <td>[Auch ein Gebot der Menschenliebe. — Es giebt ...</td>\n    </tr>\n    <tr>\n      <th>174</th>\n      <td>1888</td>\n      <td>24</td>\n      <td>[Ecce homo\\nOder:\\nwarum ich Einiges mehr weis...</td>\n    </tr>\n    <tr>\n      <th>175</th>\n      <td>1888</td>\n      <td>25</td>\n      <td>[Die große Politik., Ich bringe den Krieg. Nic...</td>\n    </tr>\n  </tbody>\n</table>\n<p>176 rows × 3 columns</p>\n</div>"
     },
     "metadata": {},
     "execution_count": 2
    }
   ],
   "source": [
    "import pandas as pd\n",
    "\n",
    "data = testData.json() #encode json to be readable\n",
    "umlauts = data.read_json"
   ]
  },
  {
   "cell_type": "code",
   "execution_count": 3,
   "metadata": {},
   "outputs": [
    {
     "output_type": "execute_result",
     "data": {
      "text/plain": [
       "   year  group                                               text\n",
       "0  1869      1  Wer heutzutage von Aeschylus Sophocles Euripid...\n",
       "1  1869      2  Das Christenthum, ursprünglich Sache des Talen...\n",
       "2  1869      3  Wir sind leider gewöhnt die Künste in der Vere...\n",
       "3  1870      4                   Erlangen Samstag den 20. August.\n",
       "4  1870      5  Gedanken zu\\n„die Tragoedie und die\\nFreigeister“"
      ],
      "text/html": "<div>\n<style scoped>\n    .dataframe tbody tr th:only-of-type {\n        vertical-align: middle;\n    }\n\n    .dataframe tbody tr th {\n        vertical-align: top;\n    }\n\n    .dataframe thead th {\n        text-align: right;\n    }\n</style>\n<table border=\"1\" class=\"dataframe\">\n  <thead>\n    <tr style=\"text-align: right;\">\n      <th></th>\n      <th>year</th>\n      <th>group</th>\n      <th>text</th>\n    </tr>\n  </thead>\n  <tbody>\n    <tr>\n      <th>0</th>\n      <td>1869</td>\n      <td>1</td>\n      <td>Wer heutzutage von Aeschylus Sophocles Euripid...</td>\n    </tr>\n    <tr>\n      <th>1</th>\n      <td>1869</td>\n      <td>2</td>\n      <td>Das Christenthum, ursprünglich Sache des Talen...</td>\n    </tr>\n    <tr>\n      <th>2</th>\n      <td>1869</td>\n      <td>3</td>\n      <td>Wir sind leider gewöhnt die Künste in der Vere...</td>\n    </tr>\n    <tr>\n      <th>3</th>\n      <td>1870</td>\n      <td>4</td>\n      <td>Erlangen Samstag den 20. August.</td>\n    </tr>\n    <tr>\n      <th>4</th>\n      <td>1870</td>\n      <td>5</td>\n      <td>Gedanken zu\\n„die Tragoedie und die\\nFreigeister“</td>\n    </tr>\n  </tbody>\n</table>\n</div>"
     },
     "metadata": {},
     "execution_count": 3
    }
   ],
   "source": [
    "df = pd.DataFrame(data)\n",
    "df['text'] =  df['text'].str[0] #Remove square brackets\n",
    "df.head()"
   ]
  },
  {
   "cell_type": "code",
   "execution_count": 5,
   "metadata": {},
   "outputs": [
    {
     "output_type": "execute_result",
     "data": {
      "text/plain": [
       "   year  group                                               text  charCount\n",
       "0  1869      1  Wer heutzutage von Aeschylus Sophocles Euripid...        721\n",
       "1  1869      2  Das Christenthum, ursprünglich Sache des Talen...        361\n",
       "2  1869      3  Wir sind leider gewöhnt die Künste in der Vere...        536\n",
       "3  1870      4                   Erlangen Samstag den 20. August.         32\n",
       "4  1870      5  Gedanken zu\\n„die Tragoedie und die\\nFreigeister“         47"
      ],
      "text/html": "<div>\n<style scoped>\n    .dataframe tbody tr th:only-of-type {\n        vertical-align: middle;\n    }\n\n    .dataframe tbody tr th {\n        vertical-align: top;\n    }\n\n    .dataframe thead th {\n        text-align: right;\n    }\n</style>\n<table border=\"1\" class=\"dataframe\">\n  <thead>\n    <tr style=\"text-align: right;\">\n      <th></th>\n      <th>year</th>\n      <th>group</th>\n      <th>text</th>\n      <th>charCount</th>\n    </tr>\n  </thead>\n  <tbody>\n    <tr>\n      <th>0</th>\n      <td>1869</td>\n      <td>1</td>\n      <td>Wer heutzutage von Aeschylus Sophocles Euripid...</td>\n      <td>721</td>\n    </tr>\n    <tr>\n      <th>1</th>\n      <td>1869</td>\n      <td>2</td>\n      <td>Das Christenthum, ursprünglich Sache des Talen...</td>\n      <td>361</td>\n    </tr>\n    <tr>\n      <th>2</th>\n      <td>1869</td>\n      <td>3</td>\n      <td>Wir sind leider gewöhnt die Künste in der Vere...</td>\n      <td>536</td>\n    </tr>\n    <tr>\n      <th>3</th>\n      <td>1870</td>\n      <td>4</td>\n      <td>Erlangen Samstag den 20. August.</td>\n      <td>32</td>\n    </tr>\n    <tr>\n      <th>4</th>\n      <td>1870</td>\n      <td>5</td>\n      <td>Gedanken zu\\n„die Tragoedie und die\\nFreigeister“</td>\n      <td>47</td>\n    </tr>\n  </tbody>\n</table>\n</div>"
     },
     "metadata": {},
     "execution_count": 5
    }
   ],
   "source": [
    "#Add word length\n",
    "\n",
    "df['charCount'] = df['text'].str.len()\n",
    "\n",
    "df.head(5)\n"
   ]
  },
  {
   "cell_type": "code",
   "execution_count": null,
   "metadata": {},
   "outputs": [],
   "source": []
  }
 ]
}