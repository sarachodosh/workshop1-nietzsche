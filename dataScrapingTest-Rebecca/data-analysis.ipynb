{
 "metadata": {
  "language_info": {
   "codemirror_mode": {
    "name": "ipython",
    "version": 3
   },
   "file_extension": ".py",
   "mimetype": "text/x-python",
   "name": "python",
   "nbconvert_exporter": "python",
   "pygments_lexer": "ipython3",
   "version": "3.8.3-final"
  },
  "orig_nbformat": 2,
  "kernelspec": {
   "name": "python3",
   "display_name": "Python 3.8.3 64-bit ('anaconda3': virtualenv)",
   "metadata": {
    "interpreter": {
     "hash": "dca0ade3e726a953b501b15e8e990130d2b7799f14cfd9f4271676035ebe5511"
    }
   }
  }
 },
 "nbformat": 4,
 "nbformat_minor": 2,
 "cells": [
  {
   "cell_type": "code",
   "execution_count": 100,
   "metadata": {},
   "outputs": [
    {
     "output_type": "execute_result",
     "data": {
      "text/plain": [
       "<Response [200]>"
      ]
     },
     "metadata": {},
     "execution_count": 100
    }
   ],
   "source": [
    "import requests\n",
    "\n",
    "testData = requests.get(\"https://raw.githubusercontent.com/sarachodosh/workshop1-nietzsche/main/data-scraping/test.json\"); testData"
   ]
  },
  {
   "cell_type": "code",
   "execution_count": 192,
   "metadata": {},
   "outputs": [
    {
     "output_type": "execute_result",
     "data": {
      "text/plain": [
       "   year  group                                               text\n",
       "0  1869      1  [wer, heutzutage, von, aeschylus, sophocles, e...\n",
       "1  1869      2  [das, christenthum, ursprünglich, sache, des, ...\n",
       "2  1869      3  [wir, sind, leider, gewöhnt, die, künste, in, ...\n",
       "3  1870      4               [erlangen, samstag, den, 20, august]\n",
       "4  1870      5  [gedanken, zu, die, tragoedie, und, die, freig..."
      ],
      "text/html": "<div>\n<style scoped>\n    .dataframe tbody tr th:only-of-type {\n        vertical-align: middle;\n    }\n\n    .dataframe tbody tr th {\n        vertical-align: top;\n    }\n\n    .dataframe thead th {\n        text-align: right;\n    }\n</style>\n<table border=\"1\" class=\"dataframe\">\n  <thead>\n    <tr style=\"text-align: right;\">\n      <th></th>\n      <th>year</th>\n      <th>group</th>\n      <th>text</th>\n    </tr>\n  </thead>\n  <tbody>\n    <tr>\n      <th>0</th>\n      <td>1869</td>\n      <td>1</td>\n      <td>[wer, heutzutage, von, aeschylus, sophocles, e...</td>\n    </tr>\n    <tr>\n      <th>1</th>\n      <td>1869</td>\n      <td>2</td>\n      <td>[das, christenthum, ursprünglich, sache, des, ...</td>\n    </tr>\n    <tr>\n      <th>2</th>\n      <td>1869</td>\n      <td>3</td>\n      <td>[wir, sind, leider, gewöhnt, die, künste, in, ...</td>\n    </tr>\n    <tr>\n      <th>3</th>\n      <td>1870</td>\n      <td>4</td>\n      <td>[erlangen, samstag, den, 20, august]</td>\n    </tr>\n    <tr>\n      <th>4</th>\n      <td>1870</td>\n      <td>5</td>\n      <td>[gedanken, zu, die, tragoedie, und, die, freig...</td>\n    </tr>\n  </tbody>\n</table>\n</div>"
     },
     "metadata": {},
     "execution_count": 192
    }
   ],
   "source": [
    "import pandas as pd\n",
    "data = pd.read_json('test.json') #encode json to be readable \n",
    "\n",
    "df = pd.DataFrame(data)\n",
    "df['text'] =  df['text'].str[0] #Remove square brackets\n",
    "df['text'] = df['text'].astype(str).replace(r'\\n',' ', regex=True)\n",
    "df['text'] = df['text'].astype(str).replace(r'„',' ', regex=True)\n",
    "df['text'] = df['text'].astype(str).replace(r'“',' ', regex=True)\n",
    "df['text'] = df['text'].astype(str).replace(r'\\.',' ', regex=True)\n",
    "df['text'] = df['text'].astype(str).replace(r',',' ', regex=True)\n",
    "df['text'] = df['text'].astype(str).str.lower()\n",
    "df['text'] = df['text'].astype(str).str.split()\n",
    "\n",
    "df.to_csv('checking.csv')\n",
    "df.head()"
   ]
  },
  {
   "cell_type": "code",
   "execution_count": 199,
   "metadata": {},
   "outputs": [
    {
     "output_type": "execute_result",
     "data": {
      "text/plain": [
       "    year  group                                               text  schop2\n",
       "0   1869      1  [wer, heutzutage, von, aeschylus, sophocles, e...       0\n",
       "1   1869      2  [das, christenthum, ursprünglich, sache, des, ...       0\n",
       "2   1869      3  [wir, sind, leider, gewöhnt, die, künste, in, ...       0\n",
       "3   1870      4               [erlangen, samstag, den, 20, august]       0\n",
       "4   1870      5  [gedanken, zu, die, tragoedie, und, die, freig...       0\n",
       "5   1870      6                                                [§]       0\n",
       "6   1870      7  [das, schöne, in, jeder, kunst, beginnt, erst,...       0\n",
       "7   1870      8  [das, weib, dem, staate, gegenüber, —, der, sc...       0\n",
       "8   1871      9      [die, oper, und, die, griechische, tragoedie]       0\n",
       "9   1871     10  [geschrieben, in, den, ersten, wochen, des, ja...       0\n",
       "10  1871     11                     [vorwort, an, richard, wagner]       0\n",
       "11  1871     12  [was, wir, hier, über, das, verhältniß, der, s...       2\n",
       "12  1871     13                    [zum, schluß, der, einleitung:]       0\n",
       "13  1871     14                                             [gang]       0\n",
       "14  1871     15                             [an, die, melancholie]       0\n",
       "15  1871     16  [die, geburt, der, tragoedie, aus, dem, geiste...       0\n",
       "16  1871     17                                  [entfleusst, dem]       0\n",
       "17  1871     18  [gerade, immer, das, falsche, wird, ernst, gen...       0\n",
       "18  1872     19  [in, einer, rechten, höhe, kommt, alles, zusam...       0\n",
       "19  1872     20                [erster, vorläufiger, entwurf, von]       0"
      ],
      "text/html": "<div>\n<style scoped>\n    .dataframe tbody tr th:only-of-type {\n        vertical-align: middle;\n    }\n\n    .dataframe tbody tr th {\n        vertical-align: top;\n    }\n\n    .dataframe thead th {\n        text-align: right;\n    }\n</style>\n<table border=\"1\" class=\"dataframe\">\n  <thead>\n    <tr style=\"text-align: right;\">\n      <th></th>\n      <th>year</th>\n      <th>group</th>\n      <th>text</th>\n      <th>schop2</th>\n    </tr>\n  </thead>\n  <tbody>\n    <tr>\n      <th>0</th>\n      <td>1869</td>\n      <td>1</td>\n      <td>[wer, heutzutage, von, aeschylus, sophocles, e...</td>\n      <td>0</td>\n    </tr>\n    <tr>\n      <th>1</th>\n      <td>1869</td>\n      <td>2</td>\n      <td>[das, christenthum, ursprünglich, sache, des, ...</td>\n      <td>0</td>\n    </tr>\n    <tr>\n      <th>2</th>\n      <td>1869</td>\n      <td>3</td>\n      <td>[wir, sind, leider, gewöhnt, die, künste, in, ...</td>\n      <td>0</td>\n    </tr>\n    <tr>\n      <th>3</th>\n      <td>1870</td>\n      <td>4</td>\n      <td>[erlangen, samstag, den, 20, august]</td>\n      <td>0</td>\n    </tr>\n    <tr>\n      <th>4</th>\n      <td>1870</td>\n      <td>5</td>\n      <td>[gedanken, zu, die, tragoedie, und, die, freig...</td>\n      <td>0</td>\n    </tr>\n    <tr>\n      <th>5</th>\n      <td>1870</td>\n      <td>6</td>\n      <td>[§]</td>\n      <td>0</td>\n    </tr>\n    <tr>\n      <th>6</th>\n      <td>1870</td>\n      <td>7</td>\n      <td>[das, schöne, in, jeder, kunst, beginnt, erst,...</td>\n      <td>0</td>\n    </tr>\n    <tr>\n      <th>7</th>\n      <td>1870</td>\n      <td>8</td>\n      <td>[das, weib, dem, staate, gegenüber, —, der, sc...</td>\n      <td>0</td>\n    </tr>\n    <tr>\n      <th>8</th>\n      <td>1871</td>\n      <td>9</td>\n      <td>[die, oper, und, die, griechische, tragoedie]</td>\n      <td>0</td>\n    </tr>\n    <tr>\n      <th>9</th>\n      <td>1871</td>\n      <td>10</td>\n      <td>[geschrieben, in, den, ersten, wochen, des, ja...</td>\n      <td>0</td>\n    </tr>\n    <tr>\n      <th>10</th>\n      <td>1871</td>\n      <td>11</td>\n      <td>[vorwort, an, richard, wagner]</td>\n      <td>0</td>\n    </tr>\n    <tr>\n      <th>11</th>\n      <td>1871</td>\n      <td>12</td>\n      <td>[was, wir, hier, über, das, verhältniß, der, s...</td>\n      <td>2</td>\n    </tr>\n    <tr>\n      <th>12</th>\n      <td>1871</td>\n      <td>13</td>\n      <td>[zum, schluß, der, einleitung:]</td>\n      <td>0</td>\n    </tr>\n    <tr>\n      <th>13</th>\n      <td>1871</td>\n      <td>14</td>\n      <td>[gang]</td>\n      <td>0</td>\n    </tr>\n    <tr>\n      <th>14</th>\n      <td>1871</td>\n      <td>15</td>\n      <td>[an, die, melancholie]</td>\n      <td>0</td>\n    </tr>\n    <tr>\n      <th>15</th>\n      <td>1871</td>\n      <td>16</td>\n      <td>[die, geburt, der, tragoedie, aus, dem, geiste...</td>\n      <td>0</td>\n    </tr>\n    <tr>\n      <th>16</th>\n      <td>1871</td>\n      <td>17</td>\n      <td>[entfleusst, dem]</td>\n      <td>0</td>\n    </tr>\n    <tr>\n      <th>17</th>\n      <td>1871</td>\n      <td>18</td>\n      <td>[gerade, immer, das, falsche, wird, ernst, gen...</td>\n      <td>0</td>\n    </tr>\n    <tr>\n      <th>18</th>\n      <td>1872</td>\n      <td>19</td>\n      <td>[in, einer, rechten, höhe, kommt, alles, zusam...</td>\n      <td>0</td>\n    </tr>\n    <tr>\n      <th>19</th>\n      <td>1872</td>\n      <td>20</td>\n      <td>[erster, vorläufiger, entwurf, von]</td>\n      <td>0</td>\n    </tr>\n  </tbody>\n</table>\n</div>"
     },
     "metadata": {},
     "execution_count": 199
    }
   ],
   "source": [
    "df['schop2'] = df['text'].astype(str).str.count(\"schopenhauer\")\n",
    "\n",
    "df.head(20)\n"
   ]
  },
  {
   "cell_type": "code",
   "execution_count": 189,
   "metadata": {},
   "outputs": [],
   "source": [
    "df['charCount'] = df['text'].str.len() #Add word length"
   ]
  },
  {
   "cell_type": "code",
   "execution_count": 197,
   "metadata": {},
   "outputs": [
    {
     "output_type": "error",
     "ename": "AttributeError",
     "evalue": "Can only use .str accessor with string values!",
     "traceback": [
      "\u001b[0;31m---------------------------------------------------------------------------\u001b[0m",
      "\u001b[0;31mAttributeError\u001b[0m                            Traceback (most recent call last)",
      "\u001b[0;32m<ipython-input-197-de7755e55287>\u001b[0m in \u001b[0;36m<module>\u001b[0;34m\u001b[0m\n\u001b[1;32m      2\u001b[0m \u001b[0;34m\u001b[0m\u001b[0m\n\u001b[1;32m      3\u001b[0m \u001b[0;32mfor\u001b[0m \u001b[0mk\u001b[0m\u001b[0;34m,\u001b[0m \u001b[0mv\u001b[0m \u001b[0;32min\u001b[0m \u001b[0mterms\u001b[0m\u001b[0;34m.\u001b[0m\u001b[0mitems\u001b[0m\u001b[0;34m(\u001b[0m\u001b[0;34m)\u001b[0m\u001b[0;34m:\u001b[0m\u001b[0;34m\u001b[0m\u001b[0;34m\u001b[0m\u001b[0m\n\u001b[0;32m----> 4\u001b[0;31m     \u001b[0mdf1\u001b[0m\u001b[0;34m[\u001b[0m\u001b[0mk\u001b[0m\u001b[0;34m]\u001b[0m \u001b[0;34m=\u001b[0m \u001b[0mdf1\u001b[0m\u001b[0;34m.\u001b[0m\u001b[0mtext\u001b[0m\u001b[0;34m.\u001b[0m\u001b[0mstr\u001b[0m\u001b[0;34m.\u001b[0m\u001b[0mcontains\u001b[0m\u001b[0;34m(\u001b[0m\u001b[0;34m'|'\u001b[0m\u001b[0;34m.\u001b[0m\u001b[0mjoin\u001b[0m\u001b[0;34m(\u001b[0m\u001b[0mterms\u001b[0m\u001b[0;34m[\u001b[0m\u001b[0mk\u001b[0m\u001b[0;34m]\u001b[0m\u001b[0;34m)\u001b[0m\u001b[0;34m)\u001b[0m\u001b[0;34m\u001b[0m\u001b[0;34m\u001b[0m\u001b[0m\n\u001b[0m\u001b[1;32m      5\u001b[0m \u001b[0;34m\u001b[0m\u001b[0m\n\u001b[1;32m      6\u001b[0m \u001b[0mdf1\u001b[0m\u001b[0;34m.\u001b[0m\u001b[0mgroupby\u001b[0m\u001b[0;34m(\u001b[0m\u001b[0;34m'index'\u001b[0m\u001b[0;34m)\u001b[0m\u001b[0;34m.\u001b[0m\u001b[0msum\u001b[0m\u001b[0;34m(\u001b[0m\u001b[0;34m)\u001b[0m\u001b[0;34m.\u001b[0m\u001b[0mastype\u001b[0m\u001b[0;34m(\u001b[0m\u001b[0mint\u001b[0m\u001b[0;34m)\u001b[0m\u001b[0;34m\u001b[0m\u001b[0;34m\u001b[0m\u001b[0m\n",
      "\u001b[0;32m/opt/anaconda3/lib/python3.8/site-packages/pandas/core/generic.py\u001b[0m in \u001b[0;36m__getattr__\u001b[0;34m(self, name)\u001b[0m\n\u001b[1;32m   5268\u001b[0m             \u001b[0;32mor\u001b[0m \u001b[0mname\u001b[0m \u001b[0;32min\u001b[0m \u001b[0mself\u001b[0m\u001b[0;34m.\u001b[0m\u001b[0m_accessors\u001b[0m\u001b[0;34m\u001b[0m\u001b[0;34m\u001b[0m\u001b[0m\n\u001b[1;32m   5269\u001b[0m         ):\n\u001b[0;32m-> 5270\u001b[0;31m             \u001b[0;32mreturn\u001b[0m \u001b[0mobject\u001b[0m\u001b[0;34m.\u001b[0m\u001b[0m__getattribute__\u001b[0m\u001b[0;34m(\u001b[0m\u001b[0mself\u001b[0m\u001b[0;34m,\u001b[0m \u001b[0mname\u001b[0m\u001b[0;34m)\u001b[0m\u001b[0;34m\u001b[0m\u001b[0;34m\u001b[0m\u001b[0m\n\u001b[0m\u001b[1;32m   5271\u001b[0m         \u001b[0;32melse\u001b[0m\u001b[0;34m:\u001b[0m\u001b[0;34m\u001b[0m\u001b[0;34m\u001b[0m\u001b[0m\n\u001b[1;32m   5272\u001b[0m             \u001b[0;32mif\u001b[0m \u001b[0mself\u001b[0m\u001b[0;34m.\u001b[0m\u001b[0m_info_axis\u001b[0m\u001b[0;34m.\u001b[0m\u001b[0m_can_hold_identifiers_and_holds_name\u001b[0m\u001b[0;34m(\u001b[0m\u001b[0mname\u001b[0m\u001b[0;34m)\u001b[0m\u001b[0;34m:\u001b[0m\u001b[0;34m\u001b[0m\u001b[0;34m\u001b[0m\u001b[0m\n",
      "\u001b[0;32m/opt/anaconda3/lib/python3.8/site-packages/pandas/core/accessor.py\u001b[0m in \u001b[0;36m__get__\u001b[0;34m(self, obj, cls)\u001b[0m\n\u001b[1;32m    185\u001b[0m             \u001b[0;31m# we're accessing the attribute of the class, i.e., Dataset.geo\u001b[0m\u001b[0;34m\u001b[0m\u001b[0;34m\u001b[0m\u001b[0;34m\u001b[0m\u001b[0m\n\u001b[1;32m    186\u001b[0m             \u001b[0;32mreturn\u001b[0m \u001b[0mself\u001b[0m\u001b[0;34m.\u001b[0m\u001b[0m_accessor\u001b[0m\u001b[0;34m\u001b[0m\u001b[0;34m\u001b[0m\u001b[0m\n\u001b[0;32m--> 187\u001b[0;31m         \u001b[0maccessor_obj\u001b[0m \u001b[0;34m=\u001b[0m \u001b[0mself\u001b[0m\u001b[0;34m.\u001b[0m\u001b[0m_accessor\u001b[0m\u001b[0;34m(\u001b[0m\u001b[0mobj\u001b[0m\u001b[0;34m)\u001b[0m\u001b[0;34m\u001b[0m\u001b[0;34m\u001b[0m\u001b[0m\n\u001b[0m\u001b[1;32m    188\u001b[0m         \u001b[0;31m# Replace the property with the accessor object. Inspired by:\u001b[0m\u001b[0;34m\u001b[0m\u001b[0;34m\u001b[0m\u001b[0;34m\u001b[0m\u001b[0m\n\u001b[1;32m    189\u001b[0m         \u001b[0;31m# http://www.pydanny.com/cached-property.html\u001b[0m\u001b[0;34m\u001b[0m\u001b[0;34m\u001b[0m\u001b[0;34m\u001b[0m\u001b[0m\n",
      "\u001b[0;32m/opt/anaconda3/lib/python3.8/site-packages/pandas/core/strings.py\u001b[0m in \u001b[0;36m__init__\u001b[0;34m(self, data)\u001b[0m\n\u001b[1;32m   2039\u001b[0m \u001b[0;34m\u001b[0m\u001b[0m\n\u001b[1;32m   2040\u001b[0m     \u001b[0;32mdef\u001b[0m \u001b[0m__init__\u001b[0m\u001b[0;34m(\u001b[0m\u001b[0mself\u001b[0m\u001b[0;34m,\u001b[0m \u001b[0mdata\u001b[0m\u001b[0;34m)\u001b[0m\u001b[0;34m:\u001b[0m\u001b[0;34m\u001b[0m\u001b[0;34m\u001b[0m\u001b[0m\n\u001b[0;32m-> 2041\u001b[0;31m         \u001b[0mself\u001b[0m\u001b[0;34m.\u001b[0m\u001b[0m_inferred_dtype\u001b[0m \u001b[0;34m=\u001b[0m \u001b[0mself\u001b[0m\u001b[0;34m.\u001b[0m\u001b[0m_validate\u001b[0m\u001b[0;34m(\u001b[0m\u001b[0mdata\u001b[0m\u001b[0;34m)\u001b[0m\u001b[0;34m\u001b[0m\u001b[0;34m\u001b[0m\u001b[0m\n\u001b[0m\u001b[1;32m   2042\u001b[0m         \u001b[0mself\u001b[0m\u001b[0;34m.\u001b[0m\u001b[0m_is_categorical\u001b[0m \u001b[0;34m=\u001b[0m \u001b[0mis_categorical_dtype\u001b[0m\u001b[0;34m(\u001b[0m\u001b[0mdata\u001b[0m\u001b[0;34m)\u001b[0m\u001b[0;34m\u001b[0m\u001b[0;34m\u001b[0m\u001b[0m\n\u001b[1;32m   2043\u001b[0m         \u001b[0mself\u001b[0m\u001b[0;34m.\u001b[0m\u001b[0m_is_string\u001b[0m \u001b[0;34m=\u001b[0m \u001b[0mdata\u001b[0m\u001b[0;34m.\u001b[0m\u001b[0mdtype\u001b[0m\u001b[0;34m.\u001b[0m\u001b[0mname\u001b[0m \u001b[0;34m==\u001b[0m \u001b[0;34m\"string\"\u001b[0m\u001b[0;34m\u001b[0m\u001b[0;34m\u001b[0m\u001b[0m\n",
      "\u001b[0;32m/opt/anaconda3/lib/python3.8/site-packages/pandas/core/strings.py\u001b[0m in \u001b[0;36m_validate\u001b[0;34m(data)\u001b[0m\n\u001b[1;32m   2096\u001b[0m \u001b[0;34m\u001b[0m\u001b[0m\n\u001b[1;32m   2097\u001b[0m         \u001b[0;32mif\u001b[0m \u001b[0minferred_dtype\u001b[0m \u001b[0;32mnot\u001b[0m \u001b[0;32min\u001b[0m \u001b[0mallowed_types\u001b[0m\u001b[0;34m:\u001b[0m\u001b[0;34m\u001b[0m\u001b[0;34m\u001b[0m\u001b[0m\n\u001b[0;32m-> 2098\u001b[0;31m             \u001b[0;32mraise\u001b[0m \u001b[0mAttributeError\u001b[0m\u001b[0;34m(\u001b[0m\u001b[0;34m\"Can only use .str accessor with string values!\"\u001b[0m\u001b[0;34m)\u001b[0m\u001b[0;34m\u001b[0m\u001b[0;34m\u001b[0m\u001b[0m\n\u001b[0m\u001b[1;32m   2099\u001b[0m         \u001b[0;32mreturn\u001b[0m \u001b[0minferred_dtype\u001b[0m\u001b[0;34m\u001b[0m\u001b[0;34m\u001b[0m\u001b[0m\n\u001b[1;32m   2100\u001b[0m \u001b[0;34m\u001b[0m\u001b[0m\n",
      "\u001b[0;31mAttributeError\u001b[0m: Can only use .str accessor with string values!"
     ]
    }
   ],
   "source": [
    "terms = {'schopenhauer': ['schopenhauer', 'schopenhauers', 'schopenhauerischen']}\n",
    "\n",
    "for k, v in terms.items():\n",
    "    df1[k] = df1.text.str.contains('|'.join(terms[k]))\n",
    "\n",
    "df1.groupby('index').sum().astype(int)\n",
    "\n",
    "df1\n",
    "\n",
    "\n"
   ]
  },
  {
   "cell_type": "code",
   "execution_count": 196,
   "metadata": {},
   "outputs": [
    {
     "output_type": "execute_result",
     "data": {
      "text/plain": [
       "      schop2\n",
       "year        \n",
       "1869       0\n",
       "1870       0\n",
       "1871       2\n",
       "1872       1\n",
       "1873       0\n",
       "1874       1\n",
       "1875       0\n",
       "1876       0\n",
       "1877       0\n",
       "1878       0\n",
       "1879       0\n",
       "1880       0\n",
       "1881       0\n",
       "1882       0\n",
       "1883       0\n",
       "1884       0\n",
       "1885       0\n",
       "1886       0\n",
       "1887       0\n",
       "1888       0"
      ],
      "text/html": "<div>\n<style scoped>\n    .dataframe tbody tr th:only-of-type {\n        vertical-align: middle;\n    }\n\n    .dataframe tbody tr th {\n        vertical-align: top;\n    }\n\n    .dataframe thead th {\n        text-align: right;\n    }\n</style>\n<table border=\"1\" class=\"dataframe\">\n  <thead>\n    <tr style=\"text-align: right;\">\n      <th></th>\n      <th>schop2</th>\n    </tr>\n    <tr>\n      <th>year</th>\n      <th></th>\n    </tr>\n  </thead>\n  <tbody>\n    <tr>\n      <th>1869</th>\n      <td>0</td>\n    </tr>\n    <tr>\n      <th>1870</th>\n      <td>0</td>\n    </tr>\n    <tr>\n      <th>1871</th>\n      <td>2</td>\n    </tr>\n    <tr>\n      <th>1872</th>\n      <td>1</td>\n    </tr>\n    <tr>\n      <th>1873</th>\n      <td>0</td>\n    </tr>\n    <tr>\n      <th>1874</th>\n      <td>1</td>\n    </tr>\n    <tr>\n      <th>1875</th>\n      <td>0</td>\n    </tr>\n    <tr>\n      <th>1876</th>\n      <td>0</td>\n    </tr>\n    <tr>\n      <th>1877</th>\n      <td>0</td>\n    </tr>\n    <tr>\n      <th>1878</th>\n      <td>0</td>\n    </tr>\n    <tr>\n      <th>1879</th>\n      <td>0</td>\n    </tr>\n    <tr>\n      <th>1880</th>\n      <td>0</td>\n    </tr>\n    <tr>\n      <th>1881</th>\n      <td>0</td>\n    </tr>\n    <tr>\n      <th>1882</th>\n      <td>0</td>\n    </tr>\n    <tr>\n      <th>1883</th>\n      <td>0</td>\n    </tr>\n    <tr>\n      <th>1884</th>\n      <td>0</td>\n    </tr>\n    <tr>\n      <th>1885</th>\n      <td>0</td>\n    </tr>\n    <tr>\n      <th>1886</th>\n      <td>0</td>\n    </tr>\n    <tr>\n      <th>1887</th>\n      <td>0</td>\n    </tr>\n    <tr>\n      <th>1888</th>\n      <td>0</td>\n    </tr>\n  </tbody>\n</table>\n</div>"
     },
     "metadata": {},
     "execution_count": 196
    }
   ],
   "source": [
    "dfYear = df.groupby('year').agg({'schop2': 'sum'})\n",
    "\n",
    "dfYear"
   ]
  },
  {
   "cell_type": "code",
   "execution_count": null,
   "metadata": {},
   "outputs": [],
   "source": []
  }
 ]
}