{
 "metadata": {
  "language_info": {
   "codemirror_mode": {
    "name": "ipython",
    "version": 3
   },
   "file_extension": ".py",
   "mimetype": "text/x-python",
   "name": "python",
   "nbconvert_exporter": "python",
   "pygments_lexer": "ipython3",
   "version": "3.8.3-final"
  },
  "orig_nbformat": 2,
  "kernelspec": {
   "name": "python3",
   "display_name": "Python 3.8.3 64-bit ('base': conda)",
   "metadata": {
    "interpreter": {
     "hash": "dca0ade3e726a953b501b15e8e990130d2b7799f14cfd9f4271676035ebe5511"
    }
   }
  }
 },
 "nbformat": 4,
 "nbformat_minor": 2,
 "cells": [
  {
   "cell_type": "code",
   "execution_count": 1,
   "metadata": {},
   "outputs": [
    {
     "output_type": "execute_result",
     "data": {
      "text/plain": [
       "<Response [200]>"
      ]
     },
     "metadata": {},
     "execution_count": 1
    }
   ],
   "source": [
    "import requests\n",
    "\n",
    "page = requests.get(\"http://www.nietzschesource.org/#eKGWB/NF-1869,1[1]\"); page\n"
   ]
  },
  {
   "cell_type": "code",
   "execution_count": 56,
   "metadata": {},
   "outputs": [
    {
     "output_type": "execute_result",
     "data": {
      "text/plain": [
       "'Wer heutzutage von Aeschylus Sophocles Euripides spricht oder hört, der denkt unwillkürlich zunächst an sie als Litteraturpoeten, weil er sie aus dem Buche, im Original oder in der Übersetzung hat kennen lernen: dies ist aber ungefähr so als ob jemand vom Tannhäuser spricht und dabei das Textbuch und nichts mehr meint und versteht. Von jenen Männern soll also gesprochen werden, nicht als Librettisten: sondern als Operncomponisten. Doch weiss ich wohl, dass ich mit dem Worte „Oper“ Ihnen eine Carrikatur in die Hand gebe: wenn auch nur wenige von Ihnen das zuerst zugeben werden. Vielmehr bin ich zufrieden, wenn Sie am Schlusse überzeugt sind, dass unsere Opern gegenüber dem antiken Musikdrama nur Carikaturen sind.'"
      ]
     },
     "metadata": {},
     "execution_count": 56
    }
   ],
   "source": [
    "from splinter import Browser\n",
    "br = Browser('firefox')\n",
    "br.visit('http://www.nietzschesource.org/#eKGWB/NF-1869,1[1]')\n",
    "\n",
    "firstPar = br.find_by_css('div.p')[1].value; firstPar\n",
    "\n"
   ]
  }
 ]
}